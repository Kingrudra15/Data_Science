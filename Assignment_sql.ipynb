{
 "cells": [
  {
   "cell_type": "code",
   "execution_count": null,
   "id": "3d789b5b-f4a3-4071-95e6-6a2d1e3b077d",
   "metadata": {},
   "outputs": [],
   "source": [
    "Q1. What is a database? Differentiate between SQL and NoSQL databases."
   ]
  },
  {
   "cell_type": "code",
   "execution_count": null,
   "id": "6caa469b-cf32-490b-bdc5-1fc85f6ae3c0",
   "metadata": {},
   "outputs": [],
   "source": [
    "A database is a structured collection of data that is organized and stored in a way that makes it easy to \n",
    "manage, retrieve,and update.\n",
    "SQL: SQL databases are relational databases, which means they use a structured schema and organize data\n",
    "into tables with predefined columns.Tables are related to each other through predefined relationships.\n",
    "SQL databases use the Structured Query Language (SQL) for defining and manipulating the data\n",
    "ex MySQL, PostgreSQL, Oracle Database"
   ]
  },
  {
   "cell_type": "code",
   "execution_count": null,
   "id": "bb997529-f3ad-4a4c-a226-311db1d0357a",
   "metadata": {},
   "outputs": [],
   "source": [
    "NOSQL: NoSQL databases can be either document-oriented, key-value pairs, wide-column stores, or graph databases.\n",
    "They are designed to handle unstructured or semi-structured data.\n",
    "NoSQL databases use various query languages, depending on the database type. Examples include MongoDB's query language for document\n",
    "databases or Cassandra Query Language\n",
    "EX: MongoDB, Cassandra,"
   ]
  },
  {
   "cell_type": "code",
   "execution_count": null,
   "id": "3a7dbd0a-6a6c-42c4-a53b-b72244ae43f9",
   "metadata": {},
   "outputs": [],
   "source": [
    "Q2: What is DDL? Explain why CREATE, DROP, ALTER, and TRUNCATE are used with an example."
   ]
  },
  {
   "cell_type": "code",
   "execution_count": null,
   "id": "af9a64fb-c79a-465c-b571-80b62bc872cd",
   "metadata": {},
   "outputs": [],
   "source": [
    "DDL stands for Data Definition Language, and it is a subset of SQL (Structured Query Language) that deals\n",
    "with the definition and structure of the database objects. DDL commands allow you to define, modify,\n",
    "and remove the structure of database objects like tables, indexes, and schemas. The main DDL commands\n",
    "include CREATE, DROP, ALTER, and TRUNCATE."
   ]
  },
  {
   "cell_type": "code",
   "execution_count": null,
   "id": "26e6a445-2356-401d-b021-e207d2b6fdd7",
   "metadata": {},
   "outputs": [],
   "source": [
    "# CREATE:Used to create a new database object like a table, view, index, or schema.\n",
    "CREATE TABLE Employees (\n",
    "    EmployeeID INT PRIMARY KEY,\n",
    "    FirstName VARCHAR(50),\n",
    "    LastName VARCHAR(50),\n",
    "    HireDate DATE\n",
    ");\n"
   ]
  },
  {
   "cell_type": "code",
   "execution_count": null,
   "id": "52880c04-58d8-4004-9afa-5460cc32b25c",
   "metadata": {},
   "outputs": [],
   "source": [
    "DROP:Used to remove a database object like a table, view, index, or schema.\n",
    "DROP TABLE Employees;\n"
   ]
  },
  {
   "cell_type": "code",
   "execution_count": null,
   "id": "752ebbc1-ba9f-498f-9ad3-595ccf62a4c0",
   "metadata": {},
   "outputs": [],
   "source": [
    "ALTER:Used to modify the structure of an existing database object, such as adding, modifying, or dropping \n",
    "columns in a table.\n",
    "ALTER TABLE Employees\n",
    "ADD COLUMN Email VARCHAR(100);\n",
    "\n",
    "TRUNCATE: Used to remove all records from a table, but it retains the table structure for future use.\n",
    "TRUNCATE TABLE Employees;\n"
   ]
  },
  {
   "cell_type": "code",
   "execution_count": null,
   "id": "464e7ee3-2b4f-4285-bea1-92823ba1e4c3",
   "metadata": {},
   "outputs": [],
   "source": [
    "Q3 : What is DML? Explain INSERT, UPDATE, and DELETE with an example."
   ]
  },
  {
   "cell_type": "code",
   "execution_count": null,
   "id": "4aa27704-afc6-40ab-b82c-7482e9dc85d0",
   "metadata": {},
   "outputs": [],
   "source": [
    "DML stands for Data Manipulation Language, and it is a subset of SQL (Structured Query Language) that \n",
    "deals with the manipulation of data stored in a database. DML commands allow you to insert, update, and\n",
    "delete records in a database. The main DML commands include INSERT, UPDATE, and DELETE."
   ]
  },
  {
   "cell_type": "code",
   "execution_count": null,
   "id": "fcae82e4-5504-4910-b7ac-5ff1c3436448",
   "metadata": {},
   "outputs": [],
   "source": [
    "INSERT: Adds new records to a table.\n",
    "\n",
    "Example: INSERT INTO table_name (column1, column2, column3, ...) VALUES (value1, value2, value3, ...);\n",
    "UPDATE: Modifies existing records in a table.\n",
    "\n",
    "Example: UPDATE table_name SET column1 = value1 WHERE some_column = some_value;\n",
    "DELETE: Removes records from a table.\n",
    "\n",
    "Example: DELETE FROM table_name WHERE some_column = some_value;\n"
   ]
  },
  {
   "cell_type": "code",
   "execution_count": null,
   "id": "d9ca1a75-2811-41b3-8b1a-24d56ec4b0ac",
   "metadata": {},
   "outputs": [],
   "source": [
    "Q4. What is DQL? Explain SELECT with an example."
   ]
  },
  {
   "cell_type": "code",
   "execution_count": null,
   "id": "15276721-ccdd-4233-afb5-67add43b4aeb",
   "metadata": {},
   "outputs": [],
   "source": [
    "DQL (Data Query Language): DQL is a subset of SQL (Structured Query Language) that focuses on querying data \n",
    "from a database. The primary DQL command is SELECT, which retrieves data from one or more tables.\n",
    "SELECT * FROM Employees;\n",
    "SELECT EmployeeID, FirstName, LastName\n",
    "FROM Employees\n",
    "WHERE Department = 'IT'\n",
    "ORDER BY LastName;\n"
   ]
  },
  {
   "cell_type": "code",
   "execution_count": null,
   "id": "1d0c9acd-348d-429a-8ee4-18fa9548dd61",
   "metadata": {},
   "outputs": [],
   "source": [
    "Q5. Explain Primary Key and Foreign Key."
   ]
  },
  {
   "cell_type": "code",
   "execution_count": null,
   "id": "e2b834e9-354b-411a-af39-22fed5e08d6c",
   "metadata": {},
   "outputs": [],
   "source": [
    "Primary Key:\n",
    "A primary key is a field or combination of fields that uniquely identifies each record in a table.\n",
    "It must contain unique values, and it cannot have NULL values.\n",
    "Primary keys are used to establish relationships between tables.\n",
    "\n",
    "Foreign Key:\n",
    "A foreign key is a field in a table that is a primary key in another table.It establishes a link between the\n",
    "two tables, creating a relationship.It ensures referential integrity by preventing actions that would \n",
    "destroy the relationships between tables."
   ]
  },
  {
   "cell_type": "code",
   "execution_count": null,
   "id": "3799d314-5fd8-4b0f-8b44-0d40048019e9",
   "metadata": {},
   "outputs": [],
   "source": [
    "Q6. Write a Python code to connect MySQL to Python. Explain the cursor() and execute() method."
   ]
  },
  {
   "cell_type": "code",
   "execution_count": null,
   "id": "c10c9e10-dd11-4085-81b7-d16e0ce8343d",
   "metadata": {},
   "outputs": [],
   "source": [
    "import mysql.connector\n",
    "# import mysql.connector used to run sql on python or connecting sql to python \n",
    "#create user 'user'@'%' identified by 'password'\n",
    "mydb = mysql.connector.connect(\n",
    "  host=\"localhost\",\n",
    "  user=\"abc\",\n",
    "  password=\"password\"\n",
    ")\n",
    "print(mydb)\n",
    "mycursor = mydb.cursor()\n",
    "mycursor.execute(\"SHOW DATABASES\")\n",
    "for x in mycursor:\n",
    "  print(x)"
   ]
  },
  {
   "cell_type": "code",
   "execution_count": null,
   "id": "2a09e217-1bc5-4751-9069-7b31ba406891",
   "metadata": {},
   "outputs": [],
   "source": [
    "cursor() Method:\n",
    "The cursor() method is called on a database connection object to create a cursor.\n",
    "A cursor allows you to execute SQL queries and fetch results from the database.\n",
    "\n",
    "execute() Method:\n",
    "The execute() method is used to execute an SQL query.\n",
    "It takes the SQL query as a parameter and sends it to the database for execution.\n",
    "After execution, the results (if any) can be retrieved."
   ]
  },
  {
   "cell_type": "code",
   "execution_count": null,
   "id": "ca29ab83-3d65-4db3-8a62-e249e8a13941",
   "metadata": {},
   "outputs": [],
   "source": [
    "Q7. Give the order of execution of SQL clauses in an SQL query.\n"
   ]
  },
  {
   "cell_type": "code",
   "execution_count": null,
   "id": "211b4203-c586-42dd-abd9-a545d504a0b1",
   "metadata": {},
   "outputs": [],
   "source": [
    "The order of execution of SQL clauses in a SELECT statement is as follows:\n",
    "\n",
    "FROM: Specifies the table or tables from which to retrieve the data.\n",
    "WHERE: Filters the rows based on a specified condition.\n",
    "GROUP BY: Groups the rows that have the same values in specified columns into summary rows.\n",
    "HAVING: Filters the results of the GROUP BY clause based on a specified condition.\n",
    "SELECT: Specifies the columns to be retrieved.\n",
    "DISTINCT: Removes duplicate rows from the result set.\n",
    "ORDER BY: Sorts the result set based on specified columns.\n",
    "LIMIT/OFFSET: Limits the number of rows returned or skips a specified number of rows."
   ]
  }
 ],
 "metadata": {
  "kernelspec": {
   "display_name": "Python 3 (ipykernel)",
   "language": "python",
   "name": "python3"
  },
  "language_info": {
   "codemirror_mode": {
    "name": "ipython",
    "version": 3
   },
   "file_extension": ".py",
   "mimetype": "text/x-python",
   "name": "python",
   "nbconvert_exporter": "python",
   "pygments_lexer": "ipython3",
   "version": "3.10.8"
  }
 },
 "nbformat": 4,
 "nbformat_minor": 5
}
