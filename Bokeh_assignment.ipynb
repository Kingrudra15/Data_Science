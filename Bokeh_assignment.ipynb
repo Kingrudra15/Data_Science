{
  "nbformat": 4,
  "nbformat_minor": 0,
  "metadata": {
    "colab": {
      "provenance": []
    },
    "kernelspec": {
      "name": "python3",
      "display_name": "Python 3"
    },
    "language_info": {
      "name": "python"
    }
  },
  "cells": [
    {
      "cell_type": "code",
      "execution_count": null,
      "metadata": {
        "id": "uRx-XBLvCcgb"
      },
      "outputs": [],
      "source": [
        "Q1. How can you create a Bokeh plot using Python code?"
      ]
    },
    {
      "cell_type": "code",
      "source": [
        "!pip install bokeh\n",
        "from bokeh.plotting import figure, show\n",
        "plot = figure(title=\"My Bokeh Plot\", x_axis_label=\"X-axis\", y_axis_label=\"Y-axis\")\n",
        "show(plot)\n",
        "\n"
      ],
      "metadata": {
        "id": "o0UpAWpPCvll",
        "colab": {
          "base_uri": "https://localhost:8080/"
        },
        "outputId": "98f9510b-0f8f-42be-c539-0c7d8ab82f27"
      },
      "execution_count": 6,
      "outputs": [
        {
          "output_type": "stream",
          "name": "stdout",
          "text": [
            "Requirement already satisfied: bokeh in /usr/local/lib/python3.10/dist-packages (3.3.2)\n",
            "Requirement already satisfied: Jinja2>=2.9 in /usr/local/lib/python3.10/dist-packages (from bokeh) (3.1.2)\n",
            "Requirement already satisfied: contourpy>=1 in /usr/local/lib/python3.10/dist-packages (from bokeh) (1.2.0)\n",
            "Requirement already satisfied: numpy>=1.16 in /usr/local/lib/python3.10/dist-packages (from bokeh) (1.23.5)\n",
            "Requirement already satisfied: packaging>=16.8 in /usr/local/lib/python3.10/dist-packages (from bokeh) (23.2)\n",
            "Requirement already satisfied: pandas>=1.2 in /usr/local/lib/python3.10/dist-packages (from bokeh) (1.5.3)\n",
            "Requirement already satisfied: pillow>=7.1.0 in /usr/local/lib/python3.10/dist-packages (from bokeh) (9.4.0)\n",
            "Requirement already satisfied: PyYAML>=3.10 in /usr/local/lib/python3.10/dist-packages (from bokeh) (6.0.1)\n",
            "Requirement already satisfied: tornado>=5.1 in /usr/local/lib/python3.10/dist-packages (from bokeh) (6.3.2)\n",
            "Requirement already satisfied: xyzservices>=2021.09.1 in /usr/local/lib/python3.10/dist-packages (from bokeh) (2023.10.1)\n",
            "Requirement already satisfied: MarkupSafe>=2.0 in /usr/local/lib/python3.10/dist-packages (from Jinja2>=2.9->bokeh) (2.1.3)\n",
            "Requirement already satisfied: python-dateutil>=2.8.1 in /usr/local/lib/python3.10/dist-packages (from pandas>=1.2->bokeh) (2.8.2)\n",
            "Requirement already satisfied: pytz>=2020.1 in /usr/local/lib/python3.10/dist-packages (from pandas>=1.2->bokeh) (2023.3.post1)\n",
            "Requirement already satisfied: six>=1.5 in /usr/local/lib/python3.10/dist-packages (from python-dateutil>=2.8.1->pandas>=1.2->bokeh) (1.16.0)\n"
          ]
        },
        {
          "output_type": "stream",
          "name": "stderr",
          "text": [
            "WARNING:bokeh.core.validation.check:W-1000 (MISSING_RENDERERS): Plot has no renderers: figure(id='p1169', ...)\n"
          ]
        }
      ]
    },
    {
      "cell_type": "code",
      "source": [
        "Q2: What are glyphs in Bokeh, and how can you add them to a Bokeh plot? Explain with an example."
      ],
      "metadata": {
        "id": "YVkdhhxOCw1q"
      },
      "execution_count": null,
      "outputs": []
    },
    {
      "cell_type": "code",
      "source": [
        "# In Bokeh, glyphs are visual markers used to represent data points on a plot. Common glyphs include circles, squares, lines, bars, etc"
      ],
      "metadata": {
        "id": "2bshHccwDoyE"
      },
      "execution_count": null,
      "outputs": []
    },
    {
      "cell_type": "code",
      "source": [
        "from bokeh.plotting import figure,output_file , show\n",
        "from bokeh.sampledata.iris import flowers\n",
        "\n",
        "output_file('test.html')\n",
        "p = figure(title = \"test flower\")\n",
        "p.xaxis.axis_label = \"patel length\"\n",
        "p.yaxis.axis_label = \"patel width\"\n",
        "p.circle(flowers['petal_length'] , flowers['petal_width'])\n",
        "show(p)"
      ],
      "metadata": {
        "id": "eShyZ0mjDqF2"
      },
      "execution_count": 7,
      "outputs": []
    },
    {
      "cell_type": "code",
      "source": [
        "Q3: How can you customize the appearance of a Bokeh plot, including the axes, title, and legend?"
      ],
      "metadata": {
        "id": "t35LhLgBDx_p"
      },
      "execution_count": null,
      "outputs": []
    },
    {
      "cell_type": "code",
      "source": [
        "x = [2,3,4,5,6]\n",
        "y = [4,5,6,7,8]\n",
        "output_file('line.html')\n",
        "p = figure(title=\"line graph\")\n",
        "\n",
        "p.scatter(x, y, fill_color='red', legend_label='red points')\n",
        "show(p)"
      ],
      "metadata": {
        "id": "nYqZX9dGGJ0n"
      },
      "execution_count": 11,
      "outputs": []
    },
    {
      "cell_type": "code",
      "source": [
        "Q4: What is a Bokeh server, and how can you use it to create interactive plots that can be updated in real time?"
      ],
      "metadata": {
        "id": "GF_NlbU9GuKc"
      },
      "execution_count": null,
      "outputs": []
    },
    {
      "cell_type": "code",
      "source": [
        "A Bokeh server is a Python script that runs a Bokeh application on a local server. It enables the creation of\n",
        "interactive plots that can be updated in real time based on user input or other external events"
      ],
      "metadata": {
        "id": "kiimyMn-G6DO"
      },
      "execution_count": null,
      "outputs": []
    },
    {
      "cell_type": "code",
      "source": [
        "from bokeh.plotting import figure, curdoc\n",
        "from bokeh.models import Slider\n",
        "\n",
        "# Create a figure and add a slider\n",
        "plot = figure()\n",
        "slider = Slider(start=0, end=10, value=5, step=0.1, title=\"Slider\")\n",
        "plot.line(x=[0, 10], y=[0, 0], line_width=2)\n",
        "\n",
        "# Define a callback function\n",
        "def update(attr, old, new):\n",
        "    plot.line(x=[0, new], y=[0, 0], line_width=2)\n",
        "\n",
        "# Attach the callback to the slider's value change event\n",
        "slider.on_change(\"value\", update)\n",
        "\n",
        "# Add the plot and slider to the current document\n",
        "curdoc().add_root(plot)\n",
        "curdoc().add_root(slider)\n"
      ],
      "metadata": {
        "id": "jZ914Z1lG-mU"
      },
      "execution_count": 12,
      "outputs": []
    },
    {
      "cell_type": "code",
      "source": [
        "Q5: How can you embed a Bokeh plot into a web page or dashboard using Flask or Django?"
      ],
      "metadata": {
        "id": "YmKzmazDHAfu"
      },
      "execution_count": null,
      "outputs": []
    },
    {
      "cell_type": "code",
      "source": [
        "Create a Flask application.\n",
        "Use Bokeh to generate the plot in the Flask route.\n",
        "Embed the Bokeh plot using the components function from bokeh.embed.\n",
        "Pass the embedded HTML and script components to the Flask template.\n",
        "Render the template to display the plot."
      ],
      "metadata": {
        "id": "qKy53mhHHJ6q"
      },
      "execution_count": null,
      "outputs": []
    },
    {
      "cell_type": "code",
      "source": [
        "Django:\n",
        "\n",
        "Create a Django project and app.\n",
        "Use Bokeh to generate the plot in a Django view.\n",
        "Embed the Bokeh plot using the components function.\n",
        "Pass the embedded HTML and script components to the Django template.\n",
        "Render the template to display the plot."
      ],
      "metadata": {
        "id": "ED0ANfXnHPIn"
      },
      "execution_count": null,
      "outputs": []
    }
  ]
}