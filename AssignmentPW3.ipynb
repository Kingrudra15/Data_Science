{
 "cells": [
  {
   "cell_type": "code",
   "execution_count": null,
   "id": "ecca68eb-9526-4800-b719-5c3525af327d",
   "metadata": {},
   "outputs": [],
   "source": [
    "# Assignment3"
   ]
  },
  {
   "cell_type": "code",
   "execution_count": null,
   "id": "be0cae82-0599-4b83-8cad-ad5f84d4971c",
   "metadata": {},
   "outputs": [],
   "source": [
    " Q1. Explain Class and Object with respect to Object-Oriented Programming. Give a suitable example."
   ]
  },
  {
   "cell_type": "code",
   "execution_count": null,
   "id": "b1820597-a3c0-4da0-9d04-c2dba7620d41",
   "metadata": {},
   "outputs": [],
   "source": [
    " Class is a blueprint of object Which defines some properties and behaviours. for example we can think a class as a sketch in which\n",
    "all the details about floor door window etc comes based on thiswe build house . And house willbe object\n",
    "Object is real world entity and instance of class ex bike is class and we will create bike1, bike2 as object."
   ]
  },
  {
   "cell_type": "code",
   "execution_count": null,
   "id": "a2e519e9-7985-4dfc-96fb-2c140a1acdb9",
   "metadata": {},
   "outputs": [],
   "source": [
    "Q2. Name the four pillars of OOPs."
   ]
  },
  {
   "cell_type": "code",
   "execution_count": null,
   "id": "abe35467-223f-4085-a1f2-2aded878d2d9",
   "metadata": {},
   "outputs": [],
   "source": [
    "The four pillers are:\n",
    "1. encapsulation\n",
    "2.inheritance\n",
    "3. polymorphism\n",
    "4. Abstraction"
   ]
  },
  {
   "cell_type": "code",
   "execution_count": null,
   "id": "a0f11509-08e8-4953-a424-b8d3798df690",
   "metadata": {},
   "outputs": [],
   "source": [
    "Q3. Explain why the __init__() function is used. Give a suitable example."
   ]
  },
  {
   "cell_type": "code",
   "execution_count": null,
   "id": "3fdfda8c-7bc6-487b-9720-b5fce410cd1b",
   "metadata": {},
   "outputs": [],
   "source": [
    "__init__ function is a constructor and we used this function to provide data to a class.\n",
    "for example\n",
    "\n",
    "class pwskills2 :\n",
    "    \n",
    "    def __init__(self, phone_no , email_id, student_id):\n",
    "        avi.phone_no1 = phone_no\n",
    "        avi.email_id1 = email_id\n",
    "        avi.student_id1 = student_id\n",
    "    \n",
    "    def return_student_details(sudh) :\n",
    "        return avi.student_id1,avi.phone_no1, avi.email_id1\n",
    "    \n",
    "    \n",
    "    "
   ]
  },
  {
   "cell_type": "code",
   "execution_count": null,
   "id": "6948cb09-4148-4d46-95e1-f53e198fb8c0",
   "metadata": {},
   "outputs": [],
   "source": [
    "Q4. Why self is used in OOPs?"
   ]
  },
  {
   "cell_type": "code",
   "execution_count": null,
   "id": "feb44e18-91da-4d87-9d8c-3cfb077751b1",
   "metadata": {},
   "outputs": [],
   "source": [
    "Self we used to bind variable to a class . self is reference of object by."
   ]
  },
  {
   "cell_type": "code",
   "execution_count": null,
   "id": "167159cb-c485-4198-8d5e-07576c3cd6fe",
   "metadata": {},
   "outputs": [],
   "source": [
    "Q5. What is inheritance? Give an example for each type of inheritance."
   ]
  },
  {
   "cell_type": "code",
   "execution_count": null,
   "id": "701ca978-b893-4f4e-af7d-d4f8223c5cf7",
   "metadata": {},
   "outputs": [],
   "source": [
    "interitance is used to create new class in existing class.\n",
    "1). Single inheritance\n",
    "\n"
   ]
  }
 ],
 "metadata": {
  "kernelspec": {
   "display_name": "Python 3 (ipykernel)",
   "language": "python",
   "name": "python3"
  },
  "language_info": {
   "codemirror_mode": {
    "name": "ipython",
    "version": 3
   },
   "file_extension": ".py",
   "mimetype": "text/x-python",
   "name": "python",
   "nbconvert_exporter": "python",
   "pygments_lexer": "ipython3",
   "version": "3.10.8"
  }
 },
 "nbformat": 4,
 "nbformat_minor": 5
}
