{
 "cells": [
  {
   "cell_type": "code",
   "execution_count": null,
   "id": "2bb53ed8-1fef-430a-8ed9-601f4d53c626",
   "metadata": {},
   "outputs": [],
   "source": [
    "# Q1. Which keyword is used to create a function? Create a function to return a list of odd numbers in the\n",
    "# range of 1 to 25."
   ]
  },
  {
   "cell_type": "code",
   "execution_count": 11,
   "id": "756a2bcd-6e4d-4383-868b-c28f0876b17e",
   "metadata": {},
   "outputs": [],
   "source": [
    "# We are using def keyword to create a function."
   ]
  },
  {
   "cell_type": "code",
   "execution_count": 14,
   "id": "af4adbb0-238f-4873-8294-8f398ebfa959",
   "metadata": {},
   "outputs": [
    {
     "name": "stdout",
     "output_type": "stream",
     "text": [
      "[1, 3, 5, 7, 9, 11, 13, 15, 17, 19, 21, 23, 25]\n"
     ]
    }
   ],
   "source": [
    "def get_odd_numbers():\n",
    "    odd_numbers = []\n",
    "    for num in range(1, 26):\n",
    "        if num % 2 != 0:\n",
    "            odd_numbers.append(num)\n",
    "    return odd_numbers\n",
    "\n",
    "odd_numbers_list = get_odd_numbers()\n",
    "print(odd_numbers_list)"
   ]
  },
  {
   "cell_type": "code",
   "execution_count": null,
   "id": "44987350-6668-45e9-b67c-fe57d10385b9",
   "metadata": {},
   "outputs": [],
   "source": [
    "Q2. Why *args and **kwargs is used in some functions? Create a function each for *args and **kwargs\n",
    "to demonstrate their use."
   ]
  },
  {
   "cell_type": "code",
   "execution_count": null,
   "id": "800d1595-bd58-4e6b-9c63-20db9102889f",
   "metadata": {},
   "outputs": [],
   "source": [
    "*args and **kwargs are used in Python functions to handle a variable number of arguments."
   ]
  },
  {
   "cell_type": "code",
   "execution_count": 16,
   "id": "b59760bd-0ab3-47c8-b376-04c6cdca50bb",
   "metadata": {},
   "outputs": [
    {
     "name": "stdout",
     "output_type": "stream",
     "text": [
      "Hello, Ram\n",
      "Hello, shyam\n",
      "Hello, arjun\n"
     ]
    }
   ],
   "source": [
    "# *args is used to pass a variable number of non-keyworded arguments to a function. It allows you to pass any number of positional \n",
    "# arguments and the function receives them as a tuple.\n",
    "\n",
    "def greet(*args):\n",
    "    for name in args:\n",
    "        print(\"Hello,\", name)\n",
    "\n",
    "greet(\"Ram\", \"shyam\", \"arjun\")\n"
   ]
  },
  {
   "cell_type": "code",
   "execution_count": 18,
   "id": "f6232fed-e3e5-4390-bea1-6a8d93479656",
   "metadata": {},
   "outputs": [
    {
     "name": "stdout",
     "output_type": "stream",
     "text": [
      "name: manohar\n",
      "age: 25\n",
      "city: noida\n"
     ]
    }
   ],
   "source": [
    "# **kwargs is used to pass a variable number of keyword arguments to a function. It allows you to pass any number of named \n",
    "# arguments,and the function receives them as a dictionary\n",
    "\n",
    "def show_info(**kwargs):\n",
    "    for key, value in kwargs.items():\n",
    "        print(key + \":\", value)\n",
    "\n",
    "show_info(name=\"manohar\", age=25, city=\"noida\")\n"
   ]
  },
  {
   "cell_type": "code",
   "execution_count": null,
   "id": "35fc53f7-06e4-442b-a1b5-0570f7d234c9",
   "metadata": {},
   "outputs": [],
   "source": [
    "Q3. What is an iterator in python? Name the method used to initialise the iterator object and the method\n",
    "used for iteration. Use these methods to print the first five elements of the given list [2, 4, 6, 8, 10, 12, 14,\n",
    "16, 18, 20]."
   ]
  },
  {
   "cell_type": "code",
   "execution_count": null,
   "id": "10168a27-0709-4ebc-b4fe-838f253f6114",
   "metadata": {},
   "outputs": [],
   "source": [
    "In Python, an iterator is an object that represents a stream of data and provides a way to iterate over that data.\n",
    "It allows you to traverse through a sequence or collection\n",
    "\n",
    "iter(): This method is used to initialize an iterator object from an iterable. It returns an iterator object that can be \n",
    "used to traverse through the elements of the iterable.\n",
    "\n",
    "next(): This method is used to iterate over the elements of the iterator. It retrieves the next element from the iterator \n",
    "and advances the iterator's internal stat"
   ]
  },
  {
   "cell_type": "code",
   "execution_count": 20,
   "id": "e52c1c35-d540-415c-b335-5c316dca313b",
   "metadata": {},
   "outputs": [
    {
     "name": "stdout",
     "output_type": "stream",
     "text": [
      "2\n",
      "4\n",
      "6\n",
      "8\n",
      "10\n"
     ]
    }
   ],
   "source": [
    "my_list = [2, 4, 6, 8, 10, 12, 14, 16, 18, 20]\n",
    "my_iterator = iter(my_list)\n",
    "for i in range(5):\n",
    "    element = next(my_iterator)\n",
    "    print(element)"
   ]
  },
  {
   "cell_type": "code",
   "execution_count": null,
   "id": "b023e408-056b-478f-b832-703e6b6ad9f9",
   "metadata": {},
   "outputs": [],
   "source": [
    "Q4. What is a generator function in python? Why yield keyword is used? Give an example of a generator\n",
    "function."
   ]
  },
  {
   "cell_type": "code",
   "execution_count": null,
   "id": "971999fb-feb9-43cc-ba1b-69d5afe5762f",
   "metadata": {},
   "outputs": [],
   "source": [
    "a generator function is a special type of function that returns an iterator. It allows you to define a function that behaves \n",
    "like an iterator This makes generators memory-efficient and allows them to work with large or infinite sequences.\n",
    "yield function use for generator function\n"
   ]
  },
  {
   "cell_type": "code",
   "execution_count": 24,
   "id": "2a87635c-731f-41c8-b0e1-4e05067ab98b",
   "metadata": {},
   "outputs": [],
   "source": [
    "def test_fib(n):\n",
    "    a,b = 0,1\n",
    "    for i in range(n):\n",
    "        yield a\n",
    "        a,b = b , a+b  "
   ]
  },
  {
   "cell_type": "code",
   "execution_count": 25,
   "id": "cf429eff-49c1-4229-80be-fda4809a5d83",
   "metadata": {},
   "outputs": [
    {
     "name": "stdout",
     "output_type": "stream",
     "text": [
      "0\n",
      "1\n",
      "1\n",
      "2\n",
      "3\n",
      "5\n",
      "8\n",
      "13\n",
      "21\n",
      "34\n"
     ]
    }
   ],
   "source": [
    "for i in test_fib(10):\n",
    "    print(i)"
   ]
  },
  {
   "cell_type": "code",
   "execution_count": null,
   "id": "82183d16-7d07-4224-a11b-d126a0a5a69d",
   "metadata": {},
   "outputs": [],
   "source": [
    "Q5. Create a generator function for prime numbers less than 1000. Use the next() method to print the\n",
    "first 20 prime numbers."
   ]
  },
  {
   "cell_type": "code",
   "execution_count": null,
   "id": "4e0bda99-a19c-476b-a222-f7ab8149cf27",
   "metadata": {},
   "outputs": [],
   "source": [
    "def prime_number(n):\n",
    "    \n"
   ]
  }
 ],
 "metadata": {
  "kernelspec": {
   "display_name": "Python 3 (ipykernel)",
   "language": "python",
   "name": "python3"
  },
  "language_info": {
   "codemirror_mode": {
    "name": "ipython",
    "version": 3
   },
   "file_extension": ".py",
   "mimetype": "text/x-python",
   "name": "python",
   "nbconvert_exporter": "python",
   "pygments_lexer": "ipython3",
   "version": "3.10.8"
  }
 },
 "nbformat": 4,
 "nbformat_minor": 5
}
