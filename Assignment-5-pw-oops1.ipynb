{
 "cells": [
  {
   "cell_type": "code",
   "execution_count": null,
   "id": "5c2afc0d-df7e-4e92-8051-61428ed060b9",
   "metadata": {},
   "outputs": [],
   "source": [
    "# Q1. Explain Class and Object with respect to Object-Oriented Programming. Give a suitable example."
   ]
  },
  {
   "cell_type": "code",
   "execution_count": null,
   "id": "6806eec1-560c-4a6c-a9af-9ac27f60e951",
   "metadata": {},
   "outputs": [],
   "source": [
    "A class is a model or template for constructing objects in object-oriented programming (OOP).\n",
    "It specifies the possible characteristics (data) and actions (methods) for objects of that class.\n",
    "Consider a class as a template for building unique instances, or objects, that have similar traits and actions.\n",
    "\n",
    "On the other hand, an object is a specific instance of a class. \n",
    "It was made utilising the blueprint provided by the class and serves as a tangible representation of the \n",
    "class. Objects can perform activities based on the methods specified in the class and have their own \n",
    "distinct data.\n"
   ]
  },
  {
   "cell_type": "code",
   "execution_count": 1,
   "id": "d0010788-c563-4ed2-939d-1cc473af75b8",
   "metadata": {},
   "outputs": [],
   "source": [
    "# example:\n",
    "class pwskills1 :\n",
    "    \n",
    "    def __init__(self, phone_no , email_id, student_id):\n",
    "        self.phone_no = phone_no\n",
    "        self.email_id = email_id\n",
    "        self.student_id = student_id\n",
    "    \n",
    "    def return_student_details(self) :\n",
    "        return self.student_id,self.phone_no, self.email_id"
   ]
  },
  {
   "cell_type": "code",
   "execution_count": 2,
   "id": "a0dcb245-8a6b-40d7-b9cd-7d235b93e320",
   "metadata": {},
   "outputs": [],
   "source": [
    "rohan = pwskills1(32564895 , \"om@gmail.com\" , 101)"
   ]
  },
  {
   "cell_type": "code",
   "execution_count": 3,
   "id": "683175bd-b328-4aa7-a8c0-d1c4508e8d8c",
   "metadata": {},
   "outputs": [
    {
     "data": {
      "text/plain": [
       "(101, 32564895, 'om@gmail.com')"
      ]
     },
     "execution_count": 3,
     "metadata": {},
     "output_type": "execute_result"
    }
   ],
   "source": [
    "rohan.return_student_details()"
   ]
  },
  {
   "cell_type": "code",
   "execution_count": null,
   "id": "c34d1dea-1756-41b0-bd04-3c22529fbbbc",
   "metadata": {},
   "outputs": [],
   "source": [
    "# Q2. Name the four pillars of OOPs."
   ]
  },
  {
   "cell_type": "code",
   "execution_count": null,
   "id": "4db00548-c7f6-4e2f-98d1-72c3900e3d00",
   "metadata": {},
   "outputs": [],
   "source": [
    "1. Encapsulation\n",
    "2. polymorphism\n",
    "3. Inheritance\n",
    "4. Abstraction"
   ]
  },
  {
   "cell_type": "code",
   "execution_count": null,
   "id": "205bd623-aea0-4ba6-9c40-02ca0548d8e3",
   "metadata": {},
   "outputs": [],
   "source": [
    "# Q3. Explain why the __init__() function is used. Give a suitable example."
   ]
  },
  {
   "cell_type": "code",
   "execution_count": null,
   "id": "42f5eaa8-4af8-4937-b767-9510aa154cf4",
   "metadata": {},
   "outputs": [],
   "source": [
    "The __init__() function is a special method in Python classes that is automatically called when a new \n",
    "object is created from the class.It is known as the constructor method. The primary purpose of \n",
    "the __init__() function is to initialize the attributes of an object with values provided during object \n",
    "creation.\n"
   ]
  },
  {
   "cell_type": "code",
   "execution_count": null,
   "id": "b5f1092f-a096-4307-ac47-29b901f3afc5",
   "metadata": {},
   "outputs": [],
   "source": [
    "class pwskills1 :\n",
    "    \n",
    "    def __init__(self, phone_no , email_id, student_id):\n",
    "        self.phone_no = phone_no\n",
    "        self.email_id = email_id\n",
    "        self.student_id = student_id\n",
    "    \n",
    "    def return_student_details(self) :\n",
    "        return self.student_id,self.phone_no, self.email_id"
   ]
  },
  {
   "cell_type": "code",
   "execution_count": null,
   "id": "57cefba9-4ddb-4baf-a1f0-de2939aebe59",
   "metadata": {},
   "outputs": [],
   "source": [
    "# Q4. Why self is used in OOPs?"
   ]
  },
  {
   "cell_type": "code",
   "execution_count": null,
   "id": "065ca402-d99e-4292-a559-9e36e14dd1b8",
   "metadata": {},
   "outputs": [],
   "source": [
    "self represents the instance of the class. By using the “self” we can access the attributes \n",
    "and methods of the class in python."
   ]
  },
  {
   "cell_type": "code",
   "execution_count": null,
   "id": "c1b42fd4-7ced-4d8f-9248-ee29aa2350e0",
   "metadata": {},
   "outputs": [],
   "source": [
    "Q5. What is inheritance? Give an example for each type of inheritance."
   ]
  },
  {
   "cell_type": "code",
   "execution_count": 5,
   "id": "4d57773b-fea9-464c-8370-84baa20ed3e5",
   "metadata": {},
   "outputs": [],
   "source": [
    "Inheritance: Inheritance enables the creation of new classes based on existing classes(base or parent classes).\n",
    "It allows derived classes to inherit properties and behaviors from their parent classes. \n",
    "Inheritance promotes code reusability and the concept of a hierarchical relationship between classes.\n"
   ]
  },
  {
   "cell_type": "code",
   "execution_count": null,
   "id": "dba19401-177c-4853-a12d-8012bda93727",
   "metadata": {},
   "outputs": [],
   "source": [
    "A derived class inherits characteristics and methods from a single base class through the concept of single \n",
    "inheritance. It involves a base class and derived class having a one-to-one relationship.\n",
    "\n",
    "A derived class can inherit properties from more than one base class. It enables a class to inherit \n",
    "properties and functions from several sources. Python allows for multiple base class inheritance, \n",
    "allowing a class to derive from various base classes.\n",
    "\n",
    "A derived class inherits from a base class, which may itself be a derived class of another base class. \n",
    "This is known as multilevel inheritance. It establishes a line of inheritance,\n",
    "establishing a hierarchy between classes.\n",
    "\n",
    "Multiple derived classes can inherit from a single base class through hierarchical inheritance.\n",
    "A base class and numerous derived classes are connected in a one-to-many way."
   ]
  }
 ],
 "metadata": {
  "kernelspec": {
   "display_name": "Python 3 (ipykernel)",
   "language": "python",
   "name": "python3"
  },
  "language_info": {
   "codemirror_mode": {
    "name": "ipython",
    "version": 3
   },
   "file_extension": ".py",
   "mimetype": "text/x-python",
   "name": "python",
   "nbconvert_exporter": "python",
   "pygments_lexer": "ipython3",
   "version": "3.10.8"
  }
 },
 "nbformat": 4,
 "nbformat_minor": 5
}
