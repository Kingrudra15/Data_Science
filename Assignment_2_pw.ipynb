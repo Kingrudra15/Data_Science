{
 "cells": [
  {
   "cell_type": "raw",
   "id": "b787bbbc-fdc3-4ca7-b3e1-0539d0ab0202",
   "metadata": {},
   "source": [
    "****************************************************Assignment2********************************************************"
   ]
  },
  {
   "cell_type": "code",
   "execution_count": null,
   "id": "25bca365-8653-40da-93a2-0d78760049ae",
   "metadata": {},
   "outputs": [],
   "source": [
    "# Q1. How do you comment code in Python? What are the different types of comments?"
   ]
  },
  {
   "cell_type": "code",
   "execution_count": null,
   "id": "61f31007-e897-435d-a775-c076fd186e8a",
   "metadata": {},
   "outputs": [],
   "source": [
    "we can comment in python using ( hash  ) shift + # is the command for making a code as comment \n",
    "there are 2 type comment \n",
    "single lne comment  ex:   # name is a string\n",
    "multiline comment   ex :  # This is a long comment\n",
    "# and it extends\n",
    "# to multiple lines"
   ]
  },
  {
   "cell_type": "code",
   "execution_count": null,
   "id": "aaac225e-0432-4740-a30a-103796a49d9c",
   "metadata": {},
   "outputs": [],
   "source": [
    "# q2 What are variables in Python? How do you declare and assign values to variables?"
   ]
  },
  {
   "cell_type": "code",
   "execution_count": null,
   "id": "615332b2-d629-4bca-9486-4d7b3d1dd0e3",
   "metadata": {},
   "outputs": [],
   "source": [
    "# variable are container for storing the data . python has no command to declare variable. when we assign a value to a variable it will automatically\n",
    "# understand ex a = 3 it is a int type variable"
   ]
  },
  {
   "cell_type": "code",
   "execution_count": null,
   "id": "609066f2-8baf-4313-a62c-0ccf770e0760",
   "metadata": {},
   "outputs": [],
   "source": [
    "# Q3 How do you convert one data type to another in Python?"
   ]
  },
  {
   "cell_type": "code",
   "execution_count": 8,
   "id": "53cbc6fc-3720-48d1-b6e2-c9dba78164fc",
   "metadata": {},
   "outputs": [
    {
     "name": "stdout",
     "output_type": "stream",
     "text": [
      "1\n"
     ]
    }
   ],
   "source": [
    "# converting the data type in another data type is called as typecasting \n",
    "# to convert in another data type :\n",
    "a = 1.33\n",
    "b = int(a)\n",
    "print(b)"
   ]
  },
  {
   "cell_type": "code",
   "execution_count": 9,
   "id": "24e5d0b3-c9db-411a-a75e-674316d4df46",
   "metadata": {},
   "outputs": [
    {
     "data": {
      "text/plain": [
       "int"
      ]
     },
     "execution_count": 9,
     "metadata": {},
     "output_type": "execute_result"
    }
   ],
   "source": [
    "type(b)"
   ]
  },
  {
   "cell_type": "code",
   "execution_count": null,
   "id": "907082df-188f-486c-b55f-da296a93c381",
   "metadata": {},
   "outputs": [],
   "source": [
    "Q4. How do you write and execute a Python script from the command line?"
   ]
  },
  {
   "cell_type": "code",
   "execution_count": null,
   "id": "45fda50b-8326-4829-b555-8ef22501cac6",
   "metadata": {},
   "outputs": [],
   "source": [
    "For python in command prompt open command prompt and type python 3 and enter the path of script\n",
    "ex : python3 hello.py\n",
    "hello world\n",
    "hit enter "
   ]
  },
  {
   "cell_type": "code",
   "execution_count": null,
   "id": "b13f67cc-9c12-4d5e-8452-ac77a8f696ea",
   "metadata": {},
   "outputs": [],
   "source": [
    "Q5. Given a list my_list = [1, 2, 3, 4, 5], write the code to slice the list and obtain the sub-list [2, 3]."
   ]
  },
  {
   "cell_type": "code",
   "execution_count": 2,
   "id": "688150b3-80e0-464b-b261-f8b319294900",
   "metadata": {},
   "outputs": [
    {
     "name": "stdout",
     "output_type": "stream",
     "text": [
      "[2, 3]\n"
     ]
    }
   ],
   "source": [
    "my_list = [1, 2, 3, 4, 5]\n",
    "print(my_list[1:3])"
   ]
  },
  {
   "cell_type": "code",
   "execution_count": null,
   "id": "1d2ad840-c480-4232-8554-315e5fe65454",
   "metadata": {},
   "outputs": [],
   "source": [
    "Q6. What is a complex number in mathematics, and how is it represented in Python?"
   ]
  },
  {
   "cell_type": "markdown",
   "id": "0c37f88c-7e3d-4672-83ea-77478328a1e5",
   "metadata": {},
   "source": [
    "complex number is a number which is in form of a+ib where a and b are real number and i is imaginary number in python the representaion is as\n",
    "complex([real[, imag]]) and we use j instead of i ex 3+5j"
   ]
  },
  {
   "cell_type": "code",
   "execution_count": null,
   "id": "8f3c928b-61d6-407b-af40-2a87656b19b4",
   "metadata": {},
   "outputs": [],
   "source": [
    "Q7. What is the correct way to declare a variable named age and assign the value 25 to it?"
   ]
  },
  {
   "cell_type": "code",
   "execution_count": 8,
   "id": "d29ba5d7-17be-4acc-bd33-2e92f0de4508",
   "metadata": {},
   "outputs": [
    {
     "name": "stdout",
     "output_type": "stream",
     "text": [
      "25\n"
     ]
    },
    {
     "data": {
      "text/plain": [
       "int"
      ]
     },
     "execution_count": 8,
     "metadata": {},
     "output_type": "execute_result"
    }
   ],
   "source": [
    "age = 25\n",
    "print(age)\n"
   ]
  },
  {
   "cell_type": "code",
   "execution_count": null,
   "id": "91be0ce2-4e48-476a-a2b9-ddc1b5d8be3d",
   "metadata": {},
   "outputs": [],
   "source": [
    "Q8. Declare a variable named price and assign the value 9.99 to it. What data type does this variable\n",
    "belong to?"
   ]
  },
  {
   "cell_type": "code",
   "execution_count": 2,
   "id": "dd0520e0-868b-4d55-aba9-61450b2257e2",
   "metadata": {},
   "outputs": [
    {
     "name": "stdout",
     "output_type": "stream",
     "text": [
      "9.99\n"
     ]
    }
   ],
   "source": [
    "price = 9.99\n",
    "print(price)\n"
   ]
  },
  {
   "cell_type": "code",
   "execution_count": 3,
   "id": "a8454f84-bce9-4aa7-bb14-96d42ae41210",
   "metadata": {},
   "outputs": [
    {
     "data": {
      "text/plain": [
       "float"
      ]
     },
     "execution_count": 3,
     "metadata": {},
     "output_type": "execute_result"
    }
   ],
   "source": [
    "type(price)"
   ]
  },
  {
   "cell_type": "code",
   "execution_count": null,
   "id": "75d631f3-6d0a-4cb5-bd9b-54cfe7ffbee3",
   "metadata": {},
   "outputs": [],
   "source": [
    "Q9. Create a variable named name and assign your full name to it as a string. How would you print the\n",
    "value of this variable?"
   ]
  },
  {
   "cell_type": "code",
   "execution_count": 4,
   "id": "5fb098ae-fe8c-4880-857f-a607e2d9fb54",
   "metadata": {},
   "outputs": [
    {
     "name": "stdout",
     "output_type": "stream",
     "text": [
      "Abhishek\n"
     ]
    }
   ],
   "source": [
    "name = \"Abhishek\"\n",
    "print(name)"
   ]
  },
  {
   "cell_type": "code",
   "execution_count": null,
   "id": "b22a2331-4548-41ad-aa55-5991dd3748e1",
   "metadata": {},
   "outputs": [],
   "source": [
    "Q10. Given the string \"Hello, World!\", extract the substring \"World\"."
   ]
  },
  {
   "cell_type": "code",
   "execution_count": 6,
   "id": "6d3b85e3-69bb-49b3-83ee-e0f960cf948b",
   "metadata": {},
   "outputs": [
    {
     "name": "stdout",
     "output_type": "stream",
     "text": [
      "World\n"
     ]
    }
   ],
   "source": [
    "string = \"Hello, World!\"\n",
    "print(string[7:12])"
   ]
  },
  {
   "cell_type": "code",
   "execution_count": null,
   "id": "1a697413-3153-4550-bd0a-7d2629f42185",
   "metadata": {},
   "outputs": [],
   "source": [
    "Q11. Create a variable named \"is_student\" and assign it a boolean value indicating whether you are\n",
    "currently a student or not."
   ]
  },
  {
   "cell_type": "code",
   "execution_count": null,
   "id": "9f47a7a8-f6b1-4f10-9e1a-73f0f89f52f6",
   "metadata": {},
   "outputs": [],
   "source": [
    "is_student = true\n",
    "print(is_student)"
   ]
  }
 ],
 "metadata": {
  "kernelspec": {
   "display_name": "Python 3 (ipykernel)",
   "language": "python",
   "name": "python3"
  },
  "language_info": {
   "codemirror_mode": {
    "name": "ipython",
    "version": 3
   },
   "file_extension": ".py",
   "mimetype": "text/x-python",
   "name": "python",
   "nbconvert_exporter": "python",
   "pygments_lexer": "ipython3",
   "version": "3.10.8"
  }
 },
 "nbformat": 4,
 "nbformat_minor": 5
}
