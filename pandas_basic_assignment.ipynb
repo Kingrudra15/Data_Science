{
 "cells": [
  {
   "cell_type": "code",
   "execution_count": 1,
   "id": "125c1fdc-49e6-426f-abe0-fd8d558b43ca",
   "metadata": {},
   "outputs": [],
   "source": [
    "# Create a Pandas Series that contains the following data: 4, 8, 15, 16, 23, and 42. Then, print the series."
   ]
  },
  {
   "cell_type": "code",
   "execution_count": 15,
   "id": "fb7ddef8-c264-4769-9c05-dbc6bd0e28b8",
   "metadata": {},
   "outputs": [
    {
     "data": {
      "text/plain": [
       "0     4\n",
       "1     8\n",
       "2    15\n",
       "3    16\n",
       "4    23\n",
       "5    42\n",
       "dtype: object"
      ]
     },
     "execution_count": 15,
     "metadata": {},
     "output_type": "execute_result"
    }
   ],
   "source": [
    "import pandas as pd\n",
    "d =['4','8','15','16','23','42']\n",
    "Data = pd.Series(d)\n",
    "Data"
   ]
  },
  {
   "cell_type": "code",
   "execution_count": 16,
   "id": "10899f0f-e445-4e09-bf5e-377919091db1",
   "metadata": {},
   "outputs": [],
   "source": [
    "# Q2. Create a variable of list type containing 10 elements in it, and apply pandas.Series function on the\n",
    "# # variable print it."
   ]
  },
  {
   "cell_type": "code",
   "execution_count": 22,
   "id": "71fc49bf-f8ac-48bb-8c1c-5aa5be119144",
   "metadata": {},
   "outputs": [
    {
     "name": "stdout",
     "output_type": "stream",
     "text": [
      "0     5\n",
      "1     6\n",
      "2     8\n",
      "3     9\n",
      "4     9\n",
      "5     1\n",
      "6     0\n",
      "7    hi\n",
      "8    go\n",
      "9    no\n",
      "dtype: object\n"
     ]
    }
   ],
   "source": [
    "Variable = [5,6,8,9,9,1,0,\"hi\",\"go\",\"no\"]\n",
    "Data = pd.Series(Variable)\n",
    "print(Data)"
   ]
  },
  {
   "cell_type": "code",
   "execution_count": null,
   "id": "8aef05de-ca52-4214-8047-12265078a3bb",
   "metadata": {},
   "outputs": [],
   "source": [
    "Q3. Create a Pandas DataFrame that contains the following data:\n",
    "    "
   ]
  },
  {
   "cell_type": "code",
   "execution_count": 26,
   "id": "0a2be1a3-c6f3-46e2-9de8-c1cda7d07d5d",
   "metadata": {},
   "outputs": [
    {
     "data": {
      "text/html": [
       "<div>\n",
       "<style scoped>\n",
       "    .dataframe tbody tr th:only-of-type {\n",
       "        vertical-align: middle;\n",
       "    }\n",
       "\n",
       "    .dataframe tbody tr th {\n",
       "        vertical-align: top;\n",
       "    }\n",
       "\n",
       "    .dataframe thead th {\n",
       "        text-align: right;\n",
       "    }\n",
       "</style>\n",
       "<table border=\"1\" class=\"dataframe\">\n",
       "  <thead>\n",
       "    <tr style=\"text-align: right;\">\n",
       "      <th></th>\n",
       "      <th>Name</th>\n",
       "      <th>Age</th>\n",
       "      <th>Gender</th>\n",
       "    </tr>\n",
       "  </thead>\n",
       "  <tbody>\n",
       "    <tr>\n",
       "      <th>0</th>\n",
       "      <td>Alice</td>\n",
       "      <td>25</td>\n",
       "      <td>Female</td>\n",
       "    </tr>\n",
       "    <tr>\n",
       "      <th>1</th>\n",
       "      <td>Bob</td>\n",
       "      <td>30</td>\n",
       "      <td>male</td>\n",
       "    </tr>\n",
       "    <tr>\n",
       "      <th>2</th>\n",
       "      <td>claire</td>\n",
       "      <td>27</td>\n",
       "      <td>female</td>\n",
       "    </tr>\n",
       "  </tbody>\n",
       "</table>\n",
       "</div>"
      ],
      "text/plain": [
       "     Name  Age  Gender\n",
       "0   Alice   25  Female\n",
       "1     Bob   30    male\n",
       "2  claire   27  female"
      ]
     },
     "execution_count": 26,
     "metadata": {},
     "output_type": "execute_result"
    }
   ],
   "source": [
    "Df = {'Name':['Alice','Bob','claire'],\n",
    "     'Age':[25,30,27],\n",
    "     'Gender':['Female','male','female']}\n",
    "pd.DataFrame(Df)"
   ]
  },
  {
   "cell_type": "code",
   "execution_count": null,
   "id": "4b619bb6-66d6-447d-9561-30465535cd6b",
   "metadata": {},
   "outputs": [],
   "source": [
    "Q4. What is ‘DataFrame’ in pandas and how is it different from pandas.series? Explain with an example."
   ]
  },
  {
   "cell_type": "code",
   "execution_count": null,
   "id": "ef3ab728-5418-4545-97de-59de096f0ae2",
   "metadata": {},
   "outputs": [],
   "source": [
    "In pandas, a DataFrame is a two-dimensional labeled data structure that is widely used for data manipulation and analysis.\n",
    "On the other hand, a pandas Series is a one-dimensional labeled array. It can be thought of as a single column of a DataFrame.\n",
    "Series ex :\n",
    "Variable = [5,6,8,9,9,1,0,\"hi\",\"go\",\"no\"]\n",
    "Data = pd.Series(Variable)\n",
    "print(Data)\n",
    "DF ex:\n",
    "Df = {'Name':['Alice','Bob','claire'],\n",
    "     'Age':[25,30,27],\n",
    "     'Gender':['Female','male','female']}\n",
    "pd.DataFrame(Df)\n"
   ]
  },
  {
   "cell_type": "code",
   "execution_count": null,
   "id": "62f3afad-bf1a-4392-90f3-935146e87b2b",
   "metadata": {},
   "outputs": [],
   "source": [
    "Q5. What are some common functions you can use to manipulate data in a Pandas DataFrame? Can\n",
    "you give an example of when you might use one of these functions?"
   ]
  },
  {
   "cell_type": "code",
   "execution_count": null,
   "id": "2ac13676-855a-45f5-a2c2-4cf236196bd6",
   "metadata": {},
   "outputs": [],
   "source": [
    "pd.read_csv(): Read data from a CSV file.\n",
    "pd.read_excel():Read data from an Excel file.\n",
    "df.head(n): Display the first n rows of the DataFrame.\n",
    "df.tail(n): Display the last n rows of the DataFrame.\n",
    "df.sort_values(by='column'): Sort DataFrame by values in a specific column.\n",
    "df.sort_index(): Sort DataFrame by index.\n",
    "df.dropna(): Drop rows with missing values.\n",
    "pd.concat()\n"
   ]
  },
  {
   "cell_type": "code",
   "execution_count": null,
   "id": "6ed2d979-d7cb-43b0-bf4c-71d4d3e0e262",
   "metadata": {},
   "outputs": [],
   "source": [
    "df1 = pd.read_csv('taxonomy.csv')  \n",
    "# ex"
   ]
  },
  {
   "cell_type": "code",
   "execution_count": null,
   "id": "1a1e5e51-2390-4de3-a02b-248a0bb2c1e8",
   "metadata": {},
   "outputs": [],
   "source": [
    "Q6. Which of the following is mutable in nature Series, DataFrame, Panel?"
   ]
  },
  {
   "cell_type": "code",
   "execution_count": null,
   "id": "272decd3-01c3-42ff-a317-f6157ae45a2a",
   "metadata": {},
   "outputs": [],
   "source": [
    "In pandas, both Series and DataFrame are mutable, meaning you can modify their contents after creation."
   ]
  },
  {
   "cell_type": "code",
   "execution_count": null,
   "id": "4fee1d0d-4393-40e7-8367-29ee37ab8a4d",
   "metadata": {},
   "outputs": [],
   "source": [
    "Q7. Create a DataFrame using multiple Series. Explain with an example."
   ]
  },
  {
   "cell_type": "code",
   "execution_count": 27,
   "id": "85b7aaf0-03e4-4629-9417-7f410967421b",
   "metadata": {},
   "outputs": [
    {
     "name": "stdout",
     "output_type": "stream",
     "text": [
      "      Name  Age           City\n",
      "0    Alice   25       New York\n",
      "1      Bob   30  San Francisco\n",
      "2  Charlie   35    Los Angeles\n"
     ]
    }
   ],
   "source": [
    "names = pd.Series(['Alice', 'Bob', 'Charlie'])\n",
    "ages = pd.Series([25, 30, 35])\n",
    "cities = pd.Series(['New York', 'San Francisco', 'Los Angeles'])\n",
    "\n",
    "data = {'Name': names, 'Age': ages, 'City': cities}\n",
    "df = pd.DataFrame(data)\n",
    "\n",
    "print(df)"
   ]
  },
  {
   "cell_type": "code",
   "execution_count": null,
   "id": "a3652891-6605-4c57-bc0f-04aaf59e3cbf",
   "metadata": {},
   "outputs": [],
   "source": []
  }
 ],
 "metadata": {
  "kernelspec": {
   "display_name": "Python 3 (ipykernel)",
   "language": "python",
   "name": "python3"
  },
  "language_info": {
   "codemirror_mode": {
    "name": "ipython",
    "version": 3
   },
   "file_extension": ".py",
   "mimetype": "text/x-python",
   "name": "python",
   "nbconvert_exporter": "python",
   "pygments_lexer": "ipython3",
   "version": "3.10.8"
  }
 },
 "nbformat": 4,
 "nbformat_minor": 5
}
