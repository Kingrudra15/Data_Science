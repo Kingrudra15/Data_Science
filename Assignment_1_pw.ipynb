{
 "cells": [
  {
   "cell_type": "code",
   "execution_count": null,
   "id": "cb8ce868-d638-4c8b-b05d-ef8537d97fb2",
   "metadata": {},
   "outputs": [],
   "source": [
    "#Q1. Create one variable containing following type of data:\n",
    "#(i) string\n",
    "#(ii) list\n",
    "#(iii) float\n",
    "#(iv) tuple"
   ]
  },
  {
   "cell_type": "code",
   "execution_count": 4,
   "id": "33e4b264-9fdb-45ac-9d1b-693d11f71dd9",
   "metadata": {},
   "outputs": [],
   "source": [
    "a = \"Hi i am pw student\"\n",
    "b = [1,2,3,5,6,]\n",
    "Float = 1.23\n",
    "tuple =(\"Geeks\", \"for\", \"Geeks\")"
   ]
  },
  {
   "cell_type": "code",
   "execution_count": 5,
   "id": "a4f0f43f-8f3a-43bc-8fb6-3ed6f323eccb",
   "metadata": {},
   "outputs": [
    {
     "name": "stdout",
     "output_type": "stream",
     "text": [
      "('Hi i am pw student', [1, 2, 3, 5, 6], 1.23, ('Geeks', 'for', 'Geeks'))\n"
     ]
    }
   ],
   "source": [
    "variable = variable = \"Hi i am pw student\",[1,2,3,5,6,],1.23,(\"Geeks\", \"for\", \"Geeks\")\n",
    "print(variable)"
   ]
  },
  {
   "cell_type": "code",
   "execution_count": null,
   "id": "3ec62ee2-70e7-49b5-9963-c7249ebd9cfe",
   "metadata": {},
   "outputs": [],
   "source": [
    "# Q2. Given are some following variables containing data:\n",
    "# (i) var1 = ‘ ‘\n",
    "# (ii) var2 = ‘[ DS , ML , Python]’\n",
    "# (iii) var3 = [ ‘DS’ , ’ML’ , ‘Python’ ]\n",
    "# (iv) var4 = 1.\n",
    "# What will be the data type of the above given variable."
   ]
  },
  {
   "cell_type": "code",
   "execution_count": 9,
   "id": "3128307e-f98c-47fd-ab73-82742d533438",
   "metadata": {},
   "outputs": [],
   "source": [
    "var1 = ''\n",
    "var2 = '[DS,ML,Python]'\n",
    "var3 = ['DS','ML','Python']\n",
    "var4 = 1."
   ]
  },
  {
   "cell_type": "code",
   "execution_count": 11,
   "id": "27077f0c-bb78-4ed0-93c0-03494ab3eedd",
   "metadata": {},
   "outputs": [
    {
     "data": {
      "text/plain": [
       "str"
      ]
     },
     "execution_count": 11,
     "metadata": {},
     "output_type": "execute_result"
    }
   ],
   "source": [
    "type(var1)"
   ]
  },
  {
   "cell_type": "code",
   "execution_count": 12,
   "id": "6b39be8f-32f0-4ae2-8457-ee036cde38b0",
   "metadata": {},
   "outputs": [
    {
     "data": {
      "text/plain": [
       "str"
      ]
     },
     "execution_count": 12,
     "metadata": {},
     "output_type": "execute_result"
    }
   ],
   "source": [
    "type(var2)"
   ]
  },
  {
   "cell_type": "code",
   "execution_count": 13,
   "id": "e498a8fb-ae98-4d4a-aae3-bdc43fe78a98",
   "metadata": {},
   "outputs": [
    {
     "data": {
      "text/plain": [
       "list"
      ]
     },
     "execution_count": 13,
     "metadata": {},
     "output_type": "execute_result"
    }
   ],
   "source": [
    "type(var3)"
   ]
  },
  {
   "cell_type": "code",
   "execution_count": 14,
   "id": "79a5d31e-c172-44ec-a32d-75cca2c41504",
   "metadata": {},
   "outputs": [
    {
     "data": {
      "text/plain": [
       "float"
      ]
     },
     "execution_count": 14,
     "metadata": {},
     "output_type": "execute_result"
    }
   ],
   "source": [
    "type(var4)"
   ]
  },
  {
   "cell_type": "code",
   "execution_count": null,
   "id": "4e21348b-fa13-4091-9159-4aa9421c21dc",
   "metadata": {},
   "outputs": [],
   "source": [
    "# Q3. Explain the use of the following operators using an example:\n",
    "# (i) /\n",
    "# (ii) %\n",
    "# (iii) //\n",
    "# (iv) **"
   ]
  },
  {
   "cell_type": "code",
   "execution_count": 5,
   "id": "f12f2eaa-ae29-42b8-aaff-21b61f5ac5ce",
   "metadata": {},
   "outputs": [
    {
     "name": "stdout",
     "output_type": "stream",
     "text": [
      "0.2\n",
      "1\n",
      "3\n",
      "4\n"
     ]
    }
   ],
   "source": [
    "# / is a float division\n",
    "print(14/70)\n",
    "#/ % is modulus return remaineder \n",
    "print(11%2)\n",
    "# // floor division \n",
    "print(10//3)\n",
    "# ** power \n",
    "\n",
    "print(2**2)"
   ]
  },
  {
   "cell_type": "code",
   "execution_count": null,
   "id": "88d60212-fa19-46e4-9bcd-e6f0109ae72e",
   "metadata": {},
   "outputs": [],
   "source": [
    "# Q4. Create a list of length 10 of your choice containing multiple types of data. Using for loop print the\n",
    "# element and its data type."
   ]
  },
  {
   "cell_type": "code",
   "execution_count": 13,
   "id": "da6ff3f4-880c-440e-95cd-20a4addf9bb7",
   "metadata": {},
   "outputs": [],
   "source": [
    "l = [1,\"harry\",1.55,6,True,'avi']"
   ]
  },
  {
   "cell_type": "code",
   "execution_count": 14,
   "id": "e6c138af-f170-4ed2-b6f2-694b7990263f",
   "metadata": {},
   "outputs": [
    {
     "name": "stdout",
     "output_type": "stream",
     "text": [
      "1\n",
      "<class 'int'>\n",
      "harry\n",
      "<class 'str'>\n",
      "1.55\n",
      "<class 'float'>\n",
      "6\n",
      "<class 'int'>\n",
      "True\n",
      "<class 'bool'>\n",
      "avi\n",
      "<class 'str'>\n"
     ]
    }
   ],
   "source": [
    "for i in l:\n",
    "    print(i)\n",
    "    print (type(i))"
   ]
  },
  {
   "cell_type": "code",
   "execution_count": null,
   "id": "8fa99930-9d4a-44b8-85c0-4e13634655b3",
   "metadata": {},
   "outputs": [],
   "source": [
    "# Q5. Using a while loop, verify if the number A is purely divisible by number B and if so then how many\n",
    "# times it can be divisible."
   ]
  },
  {
   "cell_type": "code",
   "execution_count": 5,
   "id": "a978e946-d70b-4e97-8246-191b8688ea50",
   "metadata": {},
   "outputs": [
    {
     "ename": "NameError",
     "evalue": "name 'c' is not defined",
     "output_type": "error",
     "traceback": [
      "\u001b[0;31m---------------------------------------------------------------------------\u001b[0m",
      "\u001b[0;31mNameError\u001b[0m                                 Traceback (most recent call last)",
      "Cell \u001b[0;32mIn[5], line 3\u001b[0m\n\u001b[1;32m      1\u001b[0m a \u001b[38;5;241m=\u001b[39m \u001b[38;5;241m122\u001b[39m\n\u001b[1;32m      2\u001b[0m b \u001b[38;5;241m=\u001b[39m \u001b[38;5;241m2\u001b[39m\n\u001b[0;32m----> 3\u001b[0m \u001b[43mc\u001b[49m \u001b[38;5;241m==\u001b[39m a\u001b[38;5;241m/\u001b[39mb\n\u001b[1;32m      4\u001b[0m \u001b[38;5;28;01mwhile\u001b[39;00m a\u001b[38;5;241m/\u001b[39mb :\n\u001b[1;32m      5\u001b[0m     \u001b[38;5;28mprint\u001b[39m(c)\n",
      "\u001b[0;31mNameError\u001b[0m: name 'c' is not defined"
     ]
    }
   ],
   "source": [
    "a = 122\n",
    "b = 2\n",
    "c == a/b\n",
    "while a/b :\n",
    "    print(c)\n"
   ]
  },
  {
   "cell_type": "code",
   "execution_count": null,
   "id": "76302137-997e-468d-a8eb-e81455774da9",
   "metadata": {},
   "outputs": [],
   "source": [
    "# Create a list containing 25 int type data. Using for loop and if-else condition print if the element is\n",
    "# divisible by 3 or not."
   ]
  },
  {
   "cell_type": "code",
   "execution_count": 11,
   "id": "a1b4ebe5-7336-48e3-9a47-77d0f38a29cf",
   "metadata": {},
   "outputs": [
    {
     "name": "stdout",
     "output_type": "stream",
     "text": [
      "0\n",
      "divisible by 3\n",
      "1\n",
      "not devisible\n",
      "2\n",
      "not devisible\n",
      "3\n",
      "divisible by 3\n",
      "4\n",
      "not devisible\n",
      "5\n",
      "not devisible\n",
      "6\n",
      "divisible by 3\n",
      "7\n",
      "not devisible\n",
      "8\n",
      "not devisible\n",
      "9\n",
      "divisible by 3\n",
      "10\n",
      "not devisible\n",
      "11\n",
      "not devisible\n",
      "12\n",
      "divisible by 3\n",
      "13\n",
      "not devisible\n",
      "14\n",
      "not devisible\n",
      "15\n",
      "divisible by 3\n",
      "16\n",
      "not devisible\n",
      "17\n",
      "not devisible\n",
      "18\n",
      "divisible by 3\n",
      "19\n",
      "not devisible\n",
      "20\n",
      "not devisible\n",
      "21\n",
      "divisible by 3\n",
      "22\n",
      "not devisible\n",
      "23\n",
      "not devisible\n",
      "24\n",
      "divisible by 3\n"
     ]
    }
   ],
   "source": [
    "l1 = []\n",
    "for i in range(0,25):\n",
    "    print(i)\n",
    "    if i%3 == 0:\n",
    "        print(\"divisible by 3\")\n",
    "    else:\n",
    "        print(\"not devisible\")"
   ]
  },
  {
   "cell_type": "code",
   "execution_count": null,
   "id": "efb11a35-0268-4afc-a0e3-6c631229bad9",
   "metadata": {},
   "outputs": [],
   "source": [
    "# What do you understand about mutable and immutable data types? Give examples for both showing\n",
    "# this property."
   ]
  },
  {
   "cell_type": "code",
   "execution_count": null,
   "id": "5a533162-ac18-40f6-a0a0-216fc6d1c850",
   "metadata": {},
   "outputs": [],
   "source": [
    "mutable:  mutable data type are those object which we can mutate or change and make changes in these data type \n",
    "examples : list, Dictonary, set\n",
    "immutable : these are data type in which we can not change data \n",
    "example : tupple,int str,float"
   ]
  }
 ],
 "metadata": {
  "kernelspec": {
   "display_name": "Python 3 (ipykernel)",
   "language": "python",
   "name": "python3"
  },
  "language_info": {
   "codemirror_mode": {
    "name": "ipython",
    "version": 3
   },
   "file_extension": ".py",
   "mimetype": "text/x-python",
   "name": "python",
   "nbconvert_exporter": "python",
   "pygments_lexer": "ipython3",
   "version": "3.10.8"
  }
 },
 "nbformat": 4,
 "nbformat_minor": 5
}
