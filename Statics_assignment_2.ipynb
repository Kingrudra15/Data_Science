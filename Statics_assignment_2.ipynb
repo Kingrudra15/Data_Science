{
 "cells": [
  {
   "cell_type": "code",
   "execution_count": null,
   "id": "3ae999e3-1c8c-4632-9679-9effe6fec766",
   "metadata": {},
   "outputs": [],
   "source": [
    "Q1. What are the three measures of central tendency?\n",
    "Mean\n",
    "median \n",
    "mode"
   ]
  },
  {
   "cell_type": "code",
   "execution_count": null,
   "id": "254e225c-d812-44d2-877a-8c8e73f595fe",
   "metadata": {},
   "outputs": [],
   "source": [
    "Q2. What is the difference between the mean, median, and mode? How are they used to measure the\n",
    "central tendency of a dataset?\n",
    "Ans:\n",
    "Mean: Calculated by adding up all values and dividing by the number of observations. It is sensitive to extreme values.\n",
    "Median: The middle value when the data is ordered; it is less sensitive to extreme values.\n",
    "Mode: The most frequently occurring value. A dataset can have zero, one, or multiple modes.\n",
    "They are used to provide a single representative value that describes the center of a dataset, offering \n",
    "different perspectives based on the nature of the data and the analysis goals."
   ]
  },
  {
   "cell_type": "code",
   "execution_count": 6,
   "id": "cc86e1fb-7a1c-491b-a843-843332de3943",
   "metadata": {},
   "outputs": [],
   "source": [
    "# Q3. Measure the three measures of central tendency for the given height data:\n",
    "B= [178,177,176,177,178.2,178,175,179,180,175,178.9,176.2,177,172.5,178,176.5]"
   ]
  },
  {
   "cell_type": "code",
   "execution_count": 8,
   "id": "3bcffe48-c0b7-4006-a3f5-dafc81e2426e",
   "metadata": {},
   "outputs": [
    {
     "data": {
      "text/plain": [
       "177.01875"
      ]
     },
     "execution_count": 8,
     "metadata": {},
     "output_type": "execute_result"
    }
   ],
   "source": [
    "np.mean(B)"
   ]
  },
  {
   "cell_type": "code",
   "execution_count": 9,
   "id": "2977a1d8-b848-453d-b217-4720503234e3",
   "metadata": {},
   "outputs": [
    {
     "data": {
      "text/plain": [
       "177.0"
      ]
     },
     "execution_count": 9,
     "metadata": {},
     "output_type": "execute_result"
    }
   ],
   "source": [
    "np.median(B)"
   ]
  },
  {
   "cell_type": "code",
   "execution_count": null,
   "id": "56006b8c-9d3a-46a1-bfdd-15abf25089f5",
   "metadata": {},
   "outputs": [],
   "source": [
    "Mean ≈ 177.8\n",
    "Median = 177.5\n",
    "Mode: Not applicable (no repeated values)"
   ]
  },
  {
   "cell_type": "code",
   "execution_count": 2,
   "id": "1b5c9f0f-a015-46ca-9b2c-fa33ea26ff13",
   "metadata": {},
   "outputs": [],
   "source": [
    "# Q4. Find the standard deviation for the given data:\n",
    "A= [178,177,176,177,178.2,178,175,179,180,175,178.9,176.2,177,172.5,178,176.5]"
   ]
  },
  {
   "cell_type": "code",
   "execution_count": 10,
   "id": "9f570ab9-8070-4b5b-83a9-3ffe3fc68ae9",
   "metadata": {},
   "outputs": [
    {
     "data": {
      "text/plain": [
       "1.7885814036548633"
      ]
     },
     "execution_count": 10,
     "metadata": {},
     "output_type": "execute_result"
    }
   ],
   "source": [
    "import numpy as np\n",
    "np.std(A)"
   ]
  },
  {
   "cell_type": "code",
   "execution_count": null,
   "id": "2979d371-abb7-448b-995e-00fc347671af",
   "metadata": {},
   "outputs": [],
   "source": [
    "Q5. How are measures of dispersion such as range, variance, and standard deviation used to describe the spread of a dataset?\n",
    "Provide an example.\n",
    "\n",
    "Range: The difference between the maximum and minimum values.\n",
    "Variance: The average of the squared differences from the mean.\n",
    "Standard Deviation: The square root of the variance.\n",
    "They quantify the amount of variability or spread in a dataset. A larger range, variance, or standard deviation indicates \n",
    "greater dispersion. For example, if the range of test scores is 20, it means the scores spread across a 20-point range."
   ]
  },
  {
   "cell_type": "code",
   "execution_count": null,
   "id": "e1d266d3-b49c-4c9a-a909-02e67dd7fc78",
   "metadata": {},
   "outputs": [],
   "source": [
    "Q6. What is a Venn diagram?\n",
    "\n",
    "A Venn diagram is a graphical representation used to show all possible logical relations between a finite collection of \n",
    "different sets. Circles or ovals represent sets, and the overlapping regions represent common elements."
   ]
  },
  {
   "cell_type": "code",
   "execution_count": null,
   "id": "334e18d2-37ab-40a1-bf3d-9f220e277342",
   "metadata": {},
   "outputs": [],
   "source": [
    "Q7. For the two given sets A = (2,3,4,5,6,7) & B = (0,2,6,8,10). Find:\n",
    "(i) A ∩ B: The intersection, which contains elements common to both sets. In this case, A ∩ B = (2, 6).\n",
    "(ii) A ⋃ B: The union, which contains all unique elements from both sets. In this case, A ⋃ B = (0, 2, 3, 4, 5, 6, 7, 8, 10)."
   ]
  },
  {
   "cell_type": "code",
   "execution_count": null,
   "id": "21b2759b-ba3f-483d-b360-40d52e9b80a6",
   "metadata": {},
   "outputs": [],
   "source": [
    "Q8. What do you understand about skewness in data?\n",
    "\n",
    "Skewness measures the asymmetry or lack of symmetry in a dataset. A positively skewed distribution has \n",
    "a long right tail, while a negatively skewed distribution has a long left tail."
   ]
  },
  {
   "cell_type": "code",
   "execution_count": null,
   "id": "376e57d1-d544-4be9-9146-e217ab19e8c5",
   "metadata": {},
   "outputs": [],
   "source": []
  },
  {
   "cell_type": "code",
   "execution_count": null,
   "id": "ce7aafaa-b121-4adb-ad91-fed06f8bb121",
   "metadata": {},
   "outputs": [],
   "source": [
    "Q9. If a data is right-skewed, then what will be the position of the median with respect to the mean?\n",
    "\n",
    "In a right-skewed distribution, the median is typically less than the mean. The skewness pulls the mean\n",
    "in the direction of the longer tail (right tail), making it greater than the median."
   ]
  },
  {
   "cell_type": "code",
   "execution_count": null,
   "id": "dbaff876-87d2-41c0-9048-77187e4ac860",
   "metadata": {},
   "outputs": [],
   "source": [
    "Q10. Explain the difference between covariance and correlation. How are these measures used in statistical analysis?\n",
    "\n",
    "Covariance: Measures the degree to which two variables change together. Positive covariance indicates a direct relationship, \n",
    "while negative covariance indicates an inverse relationship.\n",
    "\n",
    "Correlation: Standardized measure of the strength and direction of the linear relationship between two variables. \n",
    "It ranges from -1 to 1, where 1 indicates a perfect positive linear relationship, -1 indicates a perfect negative linear relationship, and 0 indicates no linear relationship.\n",
    "\n",
    "Both are used to analyze the relationships between variables in statistics."
   ]
  },
  {
   "cell_type": "code",
   "execution_count": null,
   "id": "e071470e-ad61-47ae-a091-c848804039e5",
   "metadata": {},
   "outputs": [],
   "source": [
    "Q12. For a normal distribution data, what is the relationship between its measures of central tendency?\n",
    "\n",
    "For a normal distribution, the mean, median, and mode are all equal and located at the center of the distribution.\n",
    "They form a symmetric bell-shaped curve, and there is no skewness."
   ]
  },
  {
   "cell_type": "code",
   "execution_count": null,
   "id": "245750ec-cecb-47ec-a63d-ddec5707e4a5",
   "metadata": {},
   "outputs": [],
   "source": [
    "Q13. How is covariance different from correlation?\n",
    "\n",
    "Covariance: Measures the degree to which two variables change together, but it is not standardized. The unit of covariance\n",
    "is the product of the units of the two variables.\n",
    "\n",
    "Correlation: Standardized measure of the strength and direction of the linear relationship between two variables. \n",
    "It is dimensionless and ranges from -1 to 1."
   ]
  },
  {
   "cell_type": "code",
   "execution_count": null,
   "id": "9196f8d3-b7ec-40d1-a650-3df89cd72176",
   "metadata": {},
   "outputs": [],
   "source": [
    "Q14. How do outliers affect measures of central tendency and dispersion? Provide an example.\n",
    "\n",
    "Outliers can significantly impact measures of central tendency, especially the mean, as they pull the mean towards their \n",
    "extreme values. The median is less affected by outliers.\n",
    "\n",
    "For example, in the dataset [10, 15, 20, 25, 1000], the mean is heavily influenced by the outlier 1000, resulting in a \n",
    "larger value. However, the median remains 20, providing a more robust measure of central tendency. Outliers can also increase\n",
    "measures of dispersion like range, variance, and standard deviation."
   ]
  },
  {
   "cell_type": "code",
   "execution_count": null,
   "id": "35d2177e-8aca-41b9-af5d-8337366ea106",
   "metadata": {},
   "outputs": [],
   "source": [
    "Q11. What is the formula for calculating the sample mean? Provide an example calculation for a\n",
    "dataset."
   ]
  },
  {
   "cell_type": "code",
   "execution_count": null,
   "id": "264980fd-05ef-4c61-a861-a5f85b91e650",
   "metadata": {},
   "outputs": [],
   "source": [
    "[10, 15, 20, 25]\n",
    "(10+15+20+25)/4 = 17.5"
   ]
  }
 ],
 "metadata": {
  "kernelspec": {
   "display_name": "Python 3 (ipykernel)",
   "language": "python",
   "name": "python3"
  },
  "language_info": {
   "codemirror_mode": {
    "name": "ipython",
    "version": 3
   },
   "file_extension": ".py",
   "mimetype": "text/x-python",
   "name": "python",
   "nbconvert_exporter": "python",
   "pygments_lexer": "ipython3",
   "version": "3.10.8"
  }
 },
 "nbformat": 4,
 "nbformat_minor": 5
}
