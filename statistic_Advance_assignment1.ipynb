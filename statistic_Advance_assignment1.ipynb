{
 "cells": [
  {
   "cell_type": "code",
   "execution_count": null,
   "id": "a49ee2e7-b436-41ef-becf-8e0ba102577c",
   "metadata": {},
   "outputs": [],
   "source": [
    "Q1. What is the Probability density function?\n",
    "\n",
    "The Probability Density Function (PDF) is a statistical function that describes the likelihood of a continuous random\n",
    "variable falling within a particular range. It is used in probability theory to specify the probability of the random\n",
    "variable falling within a particular range of values, as opposed to taking on any one value."
   ]
  },
  {
   "cell_type": "code",
   "execution_count": null,
   "id": "70057018-c0b4-4d3f-8498-03a88be788c3",
   "metadata": {},
   "outputs": [],
   "source": [
    "Q2. What are the types of Probability distribution?\n",
    "\n",
    "There are several types of probability distributions, including:\n",
    "\n",
    "Uniform Distribution: All outcomes are equally likely.\n",
    "Normal Distribution (Gaussian Distribution): Symmetrical bell-shaped curve.\n",
    "Binomial Distribution: Discrete distribution for binary outcomes.\n",
    "Poisson Distribution: Models the number of events occurring within a fixed interval.\n",
    "Exponential Distribution: Models the time until an event occurs in a Poisson process."
   ]
  },
  {
   "cell_type": "code",
   "execution_count": null,
   "id": "a4ae5a28-bdca-4675-89d9-4c08bb96eb03",
   "metadata": {},
   "outputs": [],
   "source": [
    "Q3. Write a Python function to calculate the probability density function of a normal distribution with given mean \n",
    "and standard deviation at a given point."
   ]
  },
  {
   "cell_type": "code",
   "execution_count": 1,
   "id": "82fe60b0-01ad-480b-b7ff-75a13230b4fc",
   "metadata": {},
   "outputs": [
    {
     "name": "stdout",
     "output_type": "stream",
     "text": [
      "Probability at x = 1.5: 0.12951759566589174\n"
     ]
    }
   ],
   "source": [
    "import scipy.stats as stats\n",
    "\n",
    "def normal_pdf(x, mean, std_dev):\n",
    "    return stats.norm.pdf(x, mean, std_dev)\n",
    "\n",
    "\n",
    "mean = 0\n",
    "std_dev = 1\n",
    "point = 1.5\n",
    "probability = normal_pdf(point, mean, std_dev)\n",
    "print(f\"Probability at x = {point}: {probability}\")\n"
   ]
  },
  {
   "cell_type": "code",
   "execution_count": null,
   "id": "63b15f0f-6fa1-4383-8a85-b9e94933aadc",
   "metadata": {},
   "outputs": [],
   "source": [
    "Q4. What are the properties of Binomial distribution? Give two examples of events where binomial distribution can be applied.\n",
    "\n",
    "Properties of the Binomial Distribution:\n",
    "\n",
    "Consists of a fixed number of trials (n).\n",
    "Each trial has only two outcomes (success or failure).\n",
    "The probability of success (p) remains constant across all trials.\n",
    "The trials are independent.\n",
    "Examples of events suitable for a binomial distribution:\n",
    "\n",
    "Flipping a coin (success = heads, failure = tails).\n",
    "Testing the outcome of students passing (success) or failing (failure) an exam."
   ]
  },
  {
   "cell_type": "code",
   "execution_count": null,
   "id": "44655518-c421-4396-877a-1bcd028a1b83",
   "metadata": {},
   "outputs": [],
   "source": [
    "Q5. Generate a random sample of size 1000 from a binomial distribution with a probability of success 0.4 and plot\n",
    "a histogram of the results using matplotlib."
   ]
  },
  {
   "cell_type": "code",
   "execution_count": 2,
   "id": "a1f91bc1-6ee7-44f9-9205-3619be9fa773",
   "metadata": {},
   "outputs": [
    {
     "data": {
      "image/png": "[encoded data removed]",
      "text/plain": [
       "<Figure size 640x480 with 1 Axes>"
      ]
     },
     "metadata": {},
     "output_type": "display_data"
    }
   ],
   "source": [
    "import numpy as np\n",
    "import matplotlib.pyplot as plt\n",
    "\n",
    "# Generate random sample\n",
    "sample_size = 1000\n",
    "prob_success = 0.4\n",
    "binomial_sample = np.random.binomial(1, prob_success, sample_size)\n",
    "\n",
    "# Plot histogram\n",
    "plt.hist(binomial_sample, bins=[-0.5, 0.5, 1.5], edgecolor='black', alpha=0.7)\n",
    "plt.title('Binomial Distribution')\n",
    "plt.xlabel('Outcome (0 = Failure, 1 = Success)')\n",
    "plt.ylabel('Frequency')\n",
    "plt.show()\n"
   ]
  },
  {
   "cell_type": "code",
   "execution_count": null,
   "id": "e33e4cfd-9a4b-4973-aec2-36c7ab322f4e",
   "metadata": {},
   "outputs": [],
   "source": [
    "Q6. Write a Python function to calculate the cumulative distribution function of a Poisson distribution with given mean at a given point.\n",
    "\n",
    "python\n"
   ]
  },
  {
   "cell_type": "code",
   "execution_count": 3,
   "id": "ba3de199-8d66-4d2c-be27-6e39c2a6cbe5",
   "metadata": {},
   "outputs": [
    {
     "name": "stdout",
     "output_type": "stream",
     "text": [
      "Cumulative Probability at x = 2: 0.42319008112684364\n"
     ]
    }
   ],
   "source": [
    "import scipy.stats as stats\n",
    "\n",
    "def poisson_cdf(x, mean):\n",
    "    return stats.poisson.cdf(x, mean)\n",
    "\n",
    "# Example usage\n",
    "mean_poisson = 3\n",
    "point_poisson = 2\n",
    "cumulative_probability = poisson_cdf(point_poisson, mean_poisson)\n",
    "print(f\"Cumulative Probability at x = {point_poisson}: {cumulative_probability}\")\n"
   ]
  },
  {
   "cell_type": "code",
   "execution_count": null,
   "id": "bcb6e57c-3eaa-4208-ae71-8b45cca21955",
   "metadata": {},
   "outputs": [],
   "source": [
    "Q7. How is Binomial distribution different from Poisson distribution?\n",
    "\n",
    "The main differences between Binomial and Poisson distributions are:\n",
    "\n",
    "Binomial is used for a fixed number of trials with two possible outcomes, while Poisson is used for a variable number of events in a fixed interval.\n",
    "Binomial deals with discrete random variables, while Poisson deals with counts of events occurring in continuous time or space."
   ]
  },
  {
   "cell_type": "code",
   "execution_count": null,
   "id": "4844af39-bc53-4e5d-ae04-e92cfebb2ef2",
   "metadata": {},
   "outputs": [],
   "source": [
    "Q8. Generate a random sample of size 1000 from a Poisson distribution with mean 5 and calculate the sample mean and variance.\n"
   ]
  },
  {
   "cell_type": "code",
   "execution_count": 4,
   "id": "9de90425-4d58-4267-b4a9-cfed2c8d4eea",
   "metadata": {},
   "outputs": [
    {
     "name": "stdout",
     "output_type": "stream",
     "text": [
      "Sample Mean: 5.07\n",
      "Sample Variance: 4.8311\n"
     ]
    }
   ],
   "source": [
    "poisson_sample = np.random.poisson(5, 1000)\n",
    "\n",
    "sample_mean = np.mean(poisson_sample)\n",
    "sample_variance = np.var(poisson_sample)\n",
    "\n",
    "print(f\"Sample Mean: {sample_mean}\")\n",
    "print(f\"Sample Variance: {sample_variance}\")\n"
   ]
  },
  {
   "cell_type": "code",
   "execution_count": null,
   "id": "d3597236-ba55-41a6-ae67-028b09cf3c08",
   "metadata": {},
   "outputs": [],
   "source": [
    "Q10. In normal distribution with respect to mean position, where does the least frequent data appear?\n",
    "\n",
    "In a normal distribution, the least frequent data appears in the tails of the distribution, farthest from the mean. \n",
    "The tails represent extreme values, and the probability of observing data in these tails decreases as you move away from the mean.\n"
   ]
  }
 ],
 "metadata": {
  "kernelspec": {
   "display_name": "Python 3 (ipykernel)",
   "language": "python",
   "name": "python3"
  },
  "language_info": {
   "codemirror_mode": {
    "name": "ipython",
    "version": 3
   },
   "file_extension": ".py",
   "mimetype": "text/x-python",
   "name": "python",
   "nbconvert_exporter": "python",
   "pygments_lexer": "ipython3",
   "version": "3.10.8"
  }
 },
 "nbformat": 4,
 "nbformat_minor": 5
}
