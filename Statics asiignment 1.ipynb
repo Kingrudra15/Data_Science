{
 "cells": [
  {
   "cell_type": "markdown",
   "id": "3a5d4a71-3990-4e41-a424-4a64da27a713",
   "metadata": {},
   "source": [
    "Q1. What is Statistics?"
   ]
  },
  {
   "cell_type": "markdown",
   "id": "23b5d7fe-9cba-460e-bd21-2098b40eea34",
   "metadata": {},
   "source": [
    "Ans: Statics is a science of collecting organizing and analysing data. and data is facts or piece of information"
   ]
  },
  {
   "cell_type": "markdown",
   "id": "0e049ad3-9f44-4d19-8bb3-c00057d43ff1",
   "metadata": {},
   "source": [
    "Q2. Define the different types of statistics and give an example of when each type might be used."
   ]
  },
  {
   "cell_type": "markdown",
   "id": "443733f9-0043-4005-865d-abf7ee11ee7b",
   "metadata": {},
   "source": [
    "Descriptive Statics: It consist of organizing and summary of data \n",
    "example measure of central tendency, measure of despersion\n",
    "Inferential statics : it consist of using data you have to measure to form conclusion.\n",
    "exmple z test,t test"
   ]
  },
  {
   "cell_type": "code",
   "execution_count": null,
   "id": "9330b82a-ec1e-493c-af2f-7ae7c01f4b24",
   "metadata": {},
   "outputs": [],
   "source": [
    "Q3. What are the different types of data and how do they differ from each other? Provide an example of\n",
    "each type of data."
   ]
  },
  {
   "cell_type": "code",
   "execution_count": null,
   "id": "d7c53193-5f50-42d5-a9cd-76a1350f1e18",
   "metadata": {},
   "outputs": [],
   "source": [
    "Nominal Data: Categorical data with no inherent order or ranking. Examples include colors, gender, or types of fruit.\n",
    "\n",
    "Ordinal Data: Categorical data with a meaningful order or ranking. Examples include education levels (e.g., high school, \n",
    "college, graduate).\n",
    "\n",
    "Interval Data: Numerical data with a consistent scale and meaningful differences between values but no true zero point. \n",
    "Examples include temperature measured in Celsius or Fahrenheit.\n",
    "\n",
    "Ratio Data: Numerical data with a consistent scale, meaningful differences between values, and a true zero point.\n",
    "Examples include height, weight, and income."
   ]
  },
  {
   "cell_type": "code",
   "execution_count": null,
   "id": "57c145a2-c966-4b96-b548-4637504c7b42",
   "metadata": {},
   "outputs": [],
   "source": [
    "Q5. Explain the concept of levels of measurement and give an example of a variable for each level.\n",
    "\n",
    "Levels of measurement refer to the nature of the values assigned to variables. There are four levels: nominal, ordinal, interval,\n",
    "and ratio.\n",
    "\n",
    "Nominal Level: Categories with no inherent order (e.g., colors).\n",
    "Ordinal Level: Categories with a meaningful order (e.g., education levels).\n",
    "Interval Level: Numerical values with consistent intervals but no true zero (e.g., temperature in Celsius).\n",
    "Ratio Level: Numerical values with consistent intervals and a true zero point (e.g., height in centimeters)."
   ]
  },
  {
   "cell_type": "code",
   "execution_count": null,
   "id": "ef398391-3a6b-48ec-b5b5-d080d2cbb20c",
   "metadata": {},
   "outputs": [],
   "source": [
    "Q6. Why is it important to understand the level of measurement when analyzing data? Provide an example to illustrate your answer.\n",
    "\n",
    "Understanding the level of measurement is crucial because it determines the statistical analyses that can be performed. \n",
    "For example, calculating the mean makes sense for ratio data but not for ordinal data, as there is no meaningful zero point \n",
    "in ordinal data"
   ]
  },
  {
   "cell_type": "code",
   "execution_count": null,
   "id": "43078cc7-e007-4a91-b098-46f0db684759",
   "metadata": {},
   "outputs": [],
   "source": [
    "Q7. How nominal data type is different from ordinal data type.\n",
    "\n",
    "Nominal data consists of categories with no inherent order, while ordinal data has categories with a meaningful order. \n",
    "In nominal data, the labels represent different groups without implying any particular order (e.g., colors), whereas ordinal \n",
    "data implies a rank order (e.g., education levels)."
   ]
  },
  {
   "cell_type": "code",
   "execution_count": null,
   "id": "308620c9-2bee-4431-9e2f-2225b901908b",
   "metadata": {},
   "outputs": [],
   "source": [
    "Q8. Which type of plot can be used to display data in terms of range?\n",
    "\n",
    "A box plot (box-and-whisker plot) is commonly used to display data in terms of range. It visually represents the minimum,\n",
    "first quartile, median, third quartile, and maximum values, giving a clear depiction of the data's spread."
   ]
  },
  {
   "cell_type": "code",
   "execution_count": null,
   "id": "0e72184f-7912-415c-a2d7-07afb848ba6b",
   "metadata": {},
   "outputs": [],
   "source": [
    "Q9. Describe the difference between descriptive and inferential statistics. Give an example of each type of statistics and explain how they are used.\n",
    "\n",
    "Descriptive Statistics: Summarizes and describes the main features of a dataset. Example: Calculating the mean and standard\n",
    "deviation of exam scores to understand the average performance and its variability in a class.\n",
    "\n",
    "Inferential Statistics: Makes predictions or inferences about a population based on a sample. Example: Using the results\n",
    "of a survey from a sample of the population to make predictions about the entire population's opinions."
   ]
  },
  {
   "cell_type": "code",
   "execution_count": null,
   "id": "050619a0-055e-4007-9a29-835eed99616b",
   "metadata": {},
   "outputs": [],
   "source": [
    "Q10. What are some common measures of central tendency and variability used in statistics? Explain how each measure can be used to describe a dataset.\n",
    "\n",
    "Measures of Central Tendency:\n",
    "\n",
    "Mean: The average value, calculated by adding up all values and dividing by the number of observations. It provides a balance \n",
    "point for the dataset.\n",
    "Median: The middle value when the data is arranged in ascending or descending order. It's less sensitive to extreme values \n",
    "than the mean.\n",
    "Mode: The most frequently occurring value in a dataset.\n",
    "Measures of Variability:\n",
    "\n",
    "Range: The difference between the maximum and minimum values. It provides a simple measure of the dataset's spread.\n",
    "Standard Deviation: A measure of the average deviation of each data point from the mean. It gives a sense of how much the \n",
    "values in a dataset vary around the mean."
   ]
  },
  {
   "cell_type": "code",
   "execution_count": null,
   "id": "fc34035d-7cf2-4d90-8598-f3d4c89fe8c5",
   "metadata": {},
   "outputs": [],
   "source": [
    "Q4. Categorise the following datasets with respect to quantitative and qualitative data types:\n",
    "(i) Grading in exam: A+, A, B+, B, C+, C, D, E       Qualitative (Ordinal) Data\n",
    "(ii) Colour of mangoes: yellow, green, orange, red   Qualitative (Nominal) Data\n",
    "(iii) Height data of a class: [178.9, 179, 179.5, 176, 177.2, 178.3, 175.8,...]  Quantitative (Ratio) Data\n",
    "(iv) Number of mangoes exported by a farm: [500, 600, 478, 672, ...]  Quantitative (Ratio) Data"
   ]
  },
  {
   "cell_type": "code",
   "execution_count": null,
   "id": "d77fead0-f023-4d16-835f-949708749527",
   "metadata": {},
   "outputs": [],
   "source": []
  }
 ],
 "metadata": {
  "kernelspec": {
   "display_name": "Python 3 (ipykernel)",
   "language": "python",
   "name": "python3"
  },
  "language_info": {
   "codemirror_mode": {
    "name": "ipython",
    "version": 3
   },
   "file_extension": ".py",
   "mimetype": "text/x-python",
   "name": "python",
   "nbconvert_exporter": "python",
   "pygments_lexer": "ipython3",
   "version": "3.10.8"
  }
 },
 "nbformat": 4,
 "nbformat_minor": 5
}
