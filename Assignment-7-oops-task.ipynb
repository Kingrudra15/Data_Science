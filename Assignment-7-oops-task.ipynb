{
 "cells": [
  {
   "cell_type": "code",
   "execution_count": null,
   "id": "4e9fa59a-ce96-421e-907d-020b94635d0d",
   "metadata": {},
   "outputs": [],
   "source": [
    "Q1, Create a vehicle class with an init method having instance variables as name_of_vehicle, max_speed\n",
    "and average_of_vehicle."
   ]
  },
  {
   "cell_type": "code",
   "execution_count": 1,
   "id": "d2ac12d9-c401-4ce9-b719-6521ff1df7b0",
   "metadata": {},
   "outputs": [],
   "source": [
    "class Vehicle:\n",
    "    def __init__(self, name_of_vehicle, max_speed, average_of_vehicle):\n",
    "        self.name_of_vehicle = name_of_vehicle\n",
    "        self.max_speed = max_speed\n",
    "        self.average_of_vehicle = average_of_vehicle"
   ]
  },
  {
   "cell_type": "code",
   "execution_count": null,
   "id": "9eeb2289-88a2-432a-b4b2-ea3b99e3a79b",
   "metadata": {},
   "outputs": [],
   "source": [
    "Q2. Create a child class car from the vehicle class created in Que 1, which will inherit the vehicle class.\n",
    "Create a method named seating_capacity which takes capacity as an argument and returns the name of\n",
    "the vehicle and its seating capacity."
   ]
  },
  {
   "cell_type": "code",
   "execution_count": 2,
   "id": "57bf56e0-bf3f-4f11-be9b-66a9103835f6",
   "metadata": {},
   "outputs": [],
   "source": [
    "class Vehicle:\n",
    "    def __init__(self, name_of_vehicle, max_speed, average_of_vehicle):\n",
    "        self.name_of_vehicle = name_of_vehicle\n",
    "        self.max_speed = max_speed\n",
    "        self.average_of_vehicle = average_of_vehicle\n",
    "class Car(Vehicle):\n",
    "    def seating_capacity(self, capacity):\n",
    "        return f\"The {self.name_of_vehicle} has a seating capacity of {capacity} people.\"\n"
   ]
  },
  {
   "cell_type": "code",
   "execution_count": null,
   "id": "2fd8a696-6662-461e-ad38-a4cab4c02e55",
   "metadata": {},
   "outputs": [],
   "source": [
    "Q3. What is multiple inheritance? Write a python code to demonstrate multiple inheritance."
   ]
  },
  {
   "cell_type": "code",
   "execution_count": null,
   "id": "20531108-d77a-4d3f-9f9e-91ab8442ca15",
   "metadata": {},
   "outputs": [],
   "source": [
    "Multiple inheritance is a feature of object-oriented programming where a class can inherit attributes \n",
    "and methods from multiple parent classes. This allows a class to inherit and combine the properties and \n",
    "behaviors of multiple classes."
   ]
  },
  {
   "cell_type": "code",
   "execution_count": 3,
   "id": "52f2ae59-c82b-405e-83b6-e5c3c0632907",
   "metadata": {},
   "outputs": [],
   "source": [
    "class A:\n",
    "    def method_a(self):\n",
    "        print(\"Method A\")\n",
    "\n",
    "class B:\n",
    "    def method_b(self):\n",
    "        print(\"Method B\")\n",
    "\n",
    "class C(A, B):\n",
    "    def method_c(self):\n",
    "        print(\"Method C\")\n",
    "\n"
   ]
  },
  {
   "cell_type": "code",
   "execution_count": 4,
   "id": "63e07567-ddaf-4bfb-ad42-342ec0787984",
   "metadata": {},
   "outputs": [],
   "source": [
    "obj = C()"
   ]
  },
  {
   "cell_type": "code",
   "execution_count": 5,
   "id": "066a512c-2c15-4790-b76e-933b9aa4d883",
   "metadata": {},
   "outputs": [
    {
     "name": "stdout",
     "output_type": "stream",
     "text": [
      "Method A\n"
     ]
    }
   ],
   "source": [
    "obj.method_a()  "
   ]
  },
  {
   "cell_type": "code",
   "execution_count": 6,
   "id": "05ab92bc-e573-4b52-848e-a8360d0d522e",
   "metadata": {},
   "outputs": [
    {
     "name": "stdout",
     "output_type": "stream",
     "text": [
      "Method B\n"
     ]
    }
   ],
   "source": [
    "obj.method_b() "
   ]
  },
  {
   "cell_type": "code",
   "execution_count": 7,
   "id": "2a5a803e-0d34-43f7-9f53-b4c86e58b561",
   "metadata": {},
   "outputs": [
    {
     "name": "stdout",
     "output_type": "stream",
     "text": [
      "Method C\n"
     ]
    }
   ],
   "source": [
    "obj.method_c() "
   ]
  },
  {
   "cell_type": "code",
   "execution_count": null,
   "id": "ac150414-d4d1-41bf-8b00-a4f3d7011cec",
   "metadata": {},
   "outputs": [],
   "source": [
    "Q4. What are getter and setter in python? Create a class and create a getter and a setter method in this\n",
    "class."
   ]
  },
  {
   "cell_type": "code",
   "execution_count": null,
   "id": "caf77026-84b9-42bb-9e23-567fe8cb98da",
   "metadata": {},
   "outputs": [],
   "source": [
    "getter and setter methods are used to provide controlled access to class attributes or properties. \n",
    "They allow us to get the value of an attribute and set the value of an attribute, respectively, \n",
    "while also providing an opportunity to enforce additional checks or computations."
   ]
  },
  {
   "cell_type": "code",
   "execution_count": 8,
   "id": "cdc0bfea-06ad-40f6-8b9c-96a74818e9b5",
   "metadata": {},
   "outputs": [],
   "source": [
    "class Person:\n",
    "    def __init__(self, name):\n",
    "        self._name = name\n",
    "\n",
    "    def get_name(self):\n",
    "        return self._name\n",
    "\n",
    "    def set_name(self, new_name):\n",
    "        if len(new_name) > 0:\n",
    "            self._name = new_name\n",
    "        else:\n",
    "            print(\"Invalid name.\")\n"
   ]
  },
  {
   "cell_type": "code",
   "execution_count": 9,
   "id": "7b3d1b91-271d-4f2d-b69e-d9b47669629b",
   "metadata": {},
   "outputs": [],
   "source": [
    "person = Person(\"John\")"
   ]
  },
  {
   "cell_type": "code",
   "execution_count": 10,
   "id": "622e773e-47bc-4b8f-bc2d-28a493e6f5b6",
   "metadata": {},
   "outputs": [
    {
     "name": "stdout",
     "output_type": "stream",
     "text": [
      "John\n"
     ]
    }
   ],
   "source": [
    "print(person.get_name())  "
   ]
  },
  {
   "cell_type": "code",
   "execution_count": 11,
   "id": "4034e701-3a8f-455e-863f-acb3ebf8a58c",
   "metadata": {},
   "outputs": [],
   "source": [
    "person.set_name(\"Alice\")"
   ]
  },
  {
   "cell_type": "code",
   "execution_count": 12,
   "id": "2aab5e3d-d634-4784-8a29-bdd9f2c26f73",
   "metadata": {},
   "outputs": [
    {
     "name": "stdout",
     "output_type": "stream",
     "text": [
      "Alice\n"
     ]
    }
   ],
   "source": [
    "print(person.get_name())"
   ]
  },
  {
   "cell_type": "code",
   "execution_count": null,
   "id": "cdff3830-ef53-4f12-90b2-493f619403f4",
   "metadata": {},
   "outputs": [],
   "source": [
    "Q5.What is method overriding in python? Write a python code to demonstrate method overriding."
   ]
  },
  {
   "cell_type": "code",
   "execution_count": null,
   "id": "76aa5af7-ac85-4ff0-8a53-7939d3286e79",
   "metadata": {},
   "outputs": [],
   "source": [
    "In Python, method overriding is achieved by defining a method with the same name in the subclass as\n",
    "the one in the parent class. When the method is called on an object of the subclass, the overridden\n",
    "method in the subclass is executed instead of the parent class's method."
   ]
  },
  {
   "cell_type": "code",
   "execution_count": 13,
   "id": "e33ed26b-e4ec-4531-b1a7-eafdfb5e18a5",
   "metadata": {},
   "outputs": [],
   "source": [
    "class Animal:\n",
    "    def sound(self):\n",
    "        print(\"Animal makes a sound.\")\n",
    "\n",
    "class Dog(Animal):\n",
    "    def sound(self):\n",
    "        print(\"Dog barks.\")\n",
    "\n",
    "class Cat(Animal):\n",
    "    def sound(self):\n",
    "        print(\"Cat meows.\")"
   ]
  },
  {
   "cell_type": "code",
   "execution_count": 14,
   "id": "6351ecf0-81f1-4d33-8861-069fd55e435f",
   "metadata": {},
   "outputs": [],
   "source": [
    "animal = Animal()\n",
    "dog = Dog()\n",
    "cat = Cat()"
   ]
  },
  {
   "cell_type": "code",
   "execution_count": 15,
   "id": "084b2a0c-a7b6-4a82-ade1-d354a1d5a383",
   "metadata": {},
   "outputs": [
    {
     "name": "stdout",
     "output_type": "stream",
     "text": [
      "Animal makes a sound.\n",
      "Dog barks.\n",
      "Cat meows.\n"
     ]
    }
   ],
   "source": [
    "animal.sound()\n",
    "dog.sound()\n",
    "cat.sound()"
   ]
  },
  {
   "cell_type": "code",
   "execution_count": null,
   "id": "29a78ef8-ad03-4f4b-aa28-cb20bc10ef2d",
   "metadata": {},
   "outputs": [],
   "source": []
  }
 ],
 "metadata": {
  "kernelspec": {
   "display_name": "Python 3 (ipykernel)",
   "language": "python",
   "name": "python3"
  },
  "language_info": {
   "codemirror_mode": {
    "name": "ipython",
    "version": 3
   },
   "file_extension": ".py",
   "mimetype": "text/x-python",
   "name": "python",
   "nbconvert_exporter": "python",
   "pygments_lexer": "ipython3",
   "version": "3.10.8"
  }
 },
 "nbformat": 4,
 "nbformat_minor": 5
}
