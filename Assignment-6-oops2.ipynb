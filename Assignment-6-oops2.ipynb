{
 "cells": [
  {
   "cell_type": "code",
   "execution_count": null,
   "id": "052e4a42-4298-499f-8b79-e308b267c02a",
   "metadata": {},
   "outputs": [],
   "source": [
    "Q1. What is Abstraction in OOps? Explain with an example."
   ]
  },
  {
   "cell_type": "code",
   "execution_count": null,
   "id": "0d9465f4-3b8f-4458-bab7-d0d8f96b9450",
   "metadata": {},
   "outputs": [],
   "source": [
    "Abstraction in object-oriented programming (OOP) is the process of simplifying complex systems \n",
    "by representing only the essential features while hiding the unnecessary details. It involves creating\n",
    "abstract classes and interfaces that define a common interface for a set of related objects without\n",
    "specifying the implementation details. Abstraction allows us to focus on what an object does rather\n",
    "than how it does it."
   ]
  },
  {
   "cell_type": "code",
   "execution_count": 1,
   "id": "7247a298-9b1d-4e26-8bba-a7cd166b01aa",
   "metadata": {},
   "outputs": [],
   "source": [
    "# ex:\n",
    "from abc import ABC, abstractmethod\n",
    "\n",
    "class BankAccount(ABC):\n",
    "    def __init__(self, account_number, balance):\n",
    "        self.account_number = account_number\n",
    "        self.balance = balance\n",
    "\n",
    "    @abstractmethod\n",
    "    def deposit(self, amount):\n",
    "        pass\n",
    "\n",
    "    @abstractmethod\n",
    "    def withdraw(self, amount):\n",
    "        pass\n",
    "\n",
    "class SavingsAccount(BankAccount):\n",
    "    def deposit(self, amount):\n",
    "        self.balance += amount\n",
    "        print(f\"Deposited {amount}. New balance: {self.balance}\")\n",
    "\n",
    "    def withdraw(self, amount):\n",
    "        if self.balance >= amount:\n",
    "            self.balance -= amount\n",
    "            print(f\"Withdrew {amount}. New balance: {self.balance}\")\n",
    "        else:\n",
    "            print(\"Insufficient funds.\")\n",
    "\n",
    "class CheckingAccount(BankAccount):\n",
    "    def deposit(self, amount):\n",
    "        self.balance += amount\n",
    "        print(f\"Deposited {amount}. New balance: {self.balance}\")\n",
    "\n",
    "    def withdraw(self, amount):\n",
    "        withdrawal_amount = amount + 1  # Extra fee for checking account\n",
    "        if self.balance >= withdrawal_amount:\n",
    "            self.balance -= withdrawal_amount\n",
    "            print(f\"Withdrew {amount}. New balance: {self.balance}\")\n",
    "        else:\n",
    "            print(\"Insufficient funds.\")\n",
    "\n"
   ]
  },
  {
   "cell_type": "code",
   "execution_count": 2,
   "id": "b7aadd54-a961-4b43-9f2c-c8086962b980",
   "metadata": {},
   "outputs": [],
   "source": [
    "# Creating objects\n",
    "savings_account = SavingsAccount(\"SAV001\", 1000)\n",
    "checking_account = CheckingAccount(\"CHK001\", 2000)"
   ]
  },
  {
   "cell_type": "code",
   "execution_count": 3,
   "id": "28080e4d-32ed-469b-9351-fd93c4d492b7",
   "metadata": {},
   "outputs": [
    {
     "name": "stdout",
     "output_type": "stream",
     "text": [
      "Deposited 500. New balance: 1500\n",
      "Withdrew 200. New balance: 1300\n",
      "Deposited 1000. New balance: 3000\n",
      "Withdrew 500. New balance: 2499\n"
     ]
    }
   ],
   "source": [
    "# Invoking methods\n",
    "savings_account.deposit(500)        \n",
    "savings_account.withdraw(200)       \n",
    "checking_account.deposit(1000)   \n",
    "checking_account.withdraw(500)      \n",
    "    "
   ]
  },
  {
   "cell_type": "code",
   "execution_count": null,
   "id": "3f9c3ab3-aeca-4b51-a50c-711ea4956e4b",
   "metadata": {},
   "outputs": [],
   "source": [
    "# q2--Differentiate between Abstraction and Encapsulation. Explain with an example."
   ]
  },
  {
   "cell_type": "code",
   "execution_count": null,
   "id": "1e38bc82-611f-41c1-ad8f-7c33cc6fc3ee",
   "metadata": {},
   "outputs": [],
   "source": [
    "The goal of abstraction is to express the essential qualities of an entity while obscuring the unneeded \n",
    "elements. It enables us to design abstract classes and interfaces that define a common interface for a\n",
    "group of related objects without requiring us to specify the implementation specifics. Abstraction is \n",
    "concerned with \"what\" an item does as opposed to \"how\" it accomplishes it.\n",
    "\n",
    "Encapsulation, on the other hand, is the process of grouping data and methods into a class and prohibiting \n",
    "direct access to an object's internal data. It encapsulates the data and operations as a single unit,\n",
    "acting as a protective shield around the object's state. Encapsulation is the process of merging data and\n",
    "processes and regulating who has access to them.\n"
   ]
  },
  {
   "cell_type": "code",
   "execution_count": null,
   "id": "10718b9a-d880-4f54-b5d3-e23ecf5d5378",
   "metadata": {},
   "outputs": [],
   "source": [
    "Q3. What is abc module in python? Why is it used?\n"
   ]
  },
  {
   "cell_type": "code",
   "execution_count": null,
   "id": "2d0653c6-637e-40a9-a125-938c55cc9442",
   "metadata": {},
   "outputs": [],
   "source": [
    "The abc module in Python stands for \"Abstract Base Classes.\" It provides a mechanism for defining abstract\n",
    "base classes in Python. An abstract base class is a class that cannot be instantiated directly but is meant\n",
    "to be subclassed by other classes. It serves as a blueprint for creating derived classes and defines a\n",
    "common interface that the derived classes must implement.\n",
    "\n",
    "The abc module is used to implement and enforce concepts like abstraction and polymorphism in Python.\n",
    "It helps in creating a hierarchy of classes where the base class defines a contract that its \n",
    "derived classes must follow. This promotes code modularity, reusability, and maintainability."
   ]
  },
  {
   "cell_type": "code",
   "execution_count": null,
   "id": "c2d53953-0ef7-4d2b-a14a-b69590ff5357",
   "metadata": {},
   "outputs": [],
   "source": [
    "Q4. How can we achieve data abstraction?"
   ]
  },
  {
   "cell_type": "code",
   "execution_count": null,
   "id": "df9045aa-f7cf-4bf8-8249-c2ee8ca38850",
   "metadata": {},
   "outputs": [],
   "source": [
    "Abstract classes and interfaces are used in object-oriented programming to achieve data abstraction.\n",
    "An abstract class is one that cannot be instantiated and may have one or more abstract methods that are \n",
    "specified but do not have implementation in the abstract class. The abstract class defines a shared\n",
    "interface or contract that descendant classes must follow by implementing the abstract methods.\n",
    "\n",
    "We can abstract away implementation details and focus on the core behaviours and attributes of\n",
    "objects by building abstract classes and defining abstract methods. This allows us to operate at a higher\n",
    "level of abstraction with objects, boosting code modularity and reusability."
   ]
  },
  {
   "cell_type": "code",
   "execution_count": null,
   "id": "3785c41a-a5f9-4fa8-9a60-5030c988d3e8",
   "metadata": {},
   "outputs": [],
   "source": [
    "Q5. Can we create an instance of an abstract class? Explain your answer."
   ]
  },
  {
   "cell_type": "code",
   "execution_count": null,
   "id": "3737d0d0-7705-417c-80e8-bf7913fe720d",
   "metadata": {},
   "outputs": [],
   "source": [
    "No we cannot create an instance of an abstract class in Python. An abstract class is designed to serve \n",
    "as a blueprint or template for derived classes, and it cannot be instantiated directly.\n",
    "The purpose of an abstract class is to define a common interface and enforce that its derived classes \n",
    "implement specific methods."
   ]
  },
  {
   "cell_type": "code",
   "execution_count": 4,
   "id": "b4e2c2ec-f499-41ad-9ba2-91285e14a266",
   "metadata": {},
   "outputs": [
    {
     "ename": "TypeError",
     "evalue": "Can't instantiate abstract class AbstractClass with abstract method method",
     "output_type": "error",
     "traceback": [
      "\u001b[0;31m---------------------------------------------------------------------------\u001b[0m",
      "\u001b[0;31mTypeError\u001b[0m                                 Traceback (most recent call last)",
      "Cell \u001b[0;32mIn[4], line 8\u001b[0m\n\u001b[1;32m      4\u001b[0m     \u001b[38;5;129m@abstractmethod\u001b[39m\n\u001b[1;32m      5\u001b[0m     \u001b[38;5;28;01mdef\u001b[39;00m \u001b[38;5;21mmethod\u001b[39m(\u001b[38;5;28mself\u001b[39m):\n\u001b[1;32m      6\u001b[0m         \u001b[38;5;28;01mpass\u001b[39;00m\n\u001b[0;32m----> 8\u001b[0m instance \u001b[38;5;241m=\u001b[39m \u001b[43mAbstractClass\u001b[49m\u001b[43m(\u001b[49m\u001b[43m)\u001b[49m \n",
      "\u001b[0;31mTypeError\u001b[0m: Can't instantiate abstract class AbstractClass with abstract method method"
     ]
    }
   ],
   "source": [
    "from abc import ABC, abstractmethod\n",
    "\n",
    "class AbstractClass(ABC):\n",
    "    @abstractmethod\n",
    "    def method(self):\n",
    "        pass\n",
    "\n",
    "instance = AbstractClass() "
   ]
  },
  {
   "cell_type": "code",
   "execution_count": null,
   "id": "26237b5e-135c-4e74-8c54-aba5a4797957",
   "metadata": {},
   "outputs": [],
   "source": []
  }
 ],
 "metadata": {
  "kernelspec": {
   "display_name": "Python 3 (ipykernel)",
   "language": "python",
   "name": "python3"
  },
  "language_info": {
   "codemirror_mode": {
    "name": "ipython",
    "version": 3
   },
   "file_extension": ".py",
   "mimetype": "text/x-python",
   "name": "python",
   "nbconvert_exporter": "python",
   "pygments_lexer": "ipython3",
   "version": "3.10.8"
  }
 },
 "nbformat": 4,
 "nbformat_minor": 5
}
